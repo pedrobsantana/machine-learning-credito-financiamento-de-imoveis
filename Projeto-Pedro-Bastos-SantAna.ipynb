{
 "cells": [
  {
   "cell_type": "markdown",
   "id": "a735bc6a",
   "metadata": {},
   "source": [
    "# Projeto módulo 5 - Crédito para Financiamento de Imóveis\n",
    "\n",
    "\n",
    "____________\n",
    "\n",
    "\n",
    "## Contextualização\n",
    "\n",
    "A PyCoders Ltda., cada vez mais especializada no mundo da Inteligência Artificial e Ciência de Dados, foi procurada por uma fintech para desenvolver um projeto de concessão de crédito para imóveis. Nesse projeto, espera-se a criação de valor que **discrimine ao máximo** os **bons pagadores** dos **maus pagadores**. \n",
    "\n",
    "Para isso, foi disponibilizada uma base de dados com milhares de casos de **empréstimos do passado** com diversas características dos clientes. \n",
    "\n",
    "Entrega: um modelo com a **melhor performance** possível.\n",
    "\n",
    "Métrica de performance (inicialmente proposta): **ROC-AUC.**"
   ]
  },
  {
   "cell_type": "code",
   "execution_count": 1,
   "id": "d0568dc6",
   "metadata": {},
   "outputs": [],
   "source": [
    "# importando bibliotecas\n",
    "\n",
    "import numpy as np\n",
    "import pandas as pd\n",
    "import matplotlib.pyplot as plt\n",
    "import seaborn as sns\n",
    "%matplotlib inline\n",
    "\n",
    "from sklearn.linear_model import LogisticRegression\n",
    "from sklearn.model_selection import GridSearchCV, StratifiedKFold, train_test_split\n",
    "from sklearn.metrics import confusion_matrix, classification_report, ConfusionMatrixDisplay, roc_curve, RocCurveDisplay, roc_auc_score\n",
    "from sklearn.compose import ColumnTransformer\n",
    "from sklearn.svm import SVC\n",
    "from sklearn.ensemble import AdaBoostClassifier, GradientBoostingClassifier, RandomForestClassifier\n",
    "from sklearn.pipeline import Pipeline\n",
    "from sklearn.preprocessing import StandardScaler, OneHotEncoder, OrdinalEncoder\n",
    "from sklearn.impute import SimpleImputer\n",
    "from hyperopt import hp, tpe, fmin, Trials, space_eval\n",
    "from sklearn.model_selection import cross_validate\n",
    "\n",
    "import pickle\n",
    "\n",
    "# ignorar avisos desnecessários para que a apresentação fique clean\n",
    "import warnings\n",
    "warnings.filterwarnings(\"ignore\")"
   ]
  },
  {
   "cell_type": "code",
   "execution_count": 2,
   "id": "d1357b2f",
   "metadata": {},
   "outputs": [],
   "source": [
    "# funções utilizadas\n",
    "\n",
    "def metrica_classificacao(estimator, X_train, X_test, y_train, y_test):\n",
    "    \n",
    "    print(\"Coeficientes:\\n\", estimator.coef_)\n",
    "    print(\"\\nIntercept:\", estimator.intercept_)\n",
    "\n",
    "    # dê uma olhada nas classes do modelo\n",
    "    classes =  estimator.classes_\n",
    "    print(\"\\nClasses:\", classes)\n",
    "\n",
    "    # 5) probabilidades das previsões\n",
    "    probs = estimator.predict_proba(X_test)\n",
    "\n",
    "    # probabilidade de pertencimento à classe 1\n",
    "    probs_1 = probs[:, 1]\n",
    "    \n",
    "    #calculado a ROC\n",
    "    fpr, tpr, thresholds = roc_curve(y_test, probs_1)\n",
    "    plt.title(\"ROC curve\")\n",
    "\n",
    "    plt.plot(fpr, tpr)\n",
    "\n",
    "    plt.xlabel(\"FPR\")\n",
    "    plt.ylabel(\"TPR\")\n",
    "\n",
    "    x = np.linspace(0, 1, 100)\n",
    "    y = x\n",
    "    plt.plot(x, y, ls=\":\", color=\"black\")\n",
    "\n",
    "    plt.show()\n",
    "    \n",
    "    RocCurveDisplay.from_predictions(y_test, probs_1)\n",
    "\n",
    "    x = np.linspace(0, 1, 100)\n",
    "    y = x\n",
    "    plt.plot(x, y, ls=\":\", color=\"black\")\n",
    "\n",
    "    plt.show()\n",
    "    \n",
    "    roc_score = roc_auc_score(y_test, probs_1 )\n",
    "    \n",
    "    print(\"\\nROC AUC SCORE:\", roc_score)\n",
    "    \n",
    "def metrica_classificacao_pipe(estimator, X_train, X_test, y_train, y_test):\n",
    "    \n",
    "    # probabilidades das previsões\n",
    "    probs = estimator.predict_proba(X_test)\n",
    "\n",
    "    # probabilidade de pertencimento à classe 1\n",
    "    probs_1 = probs[:, 1]\n",
    "    \n",
    "    #calculado a ROC\n",
    "    fpr, tpr, thresholds = roc_curve(y_test, probs_1)\n",
    "    plt.title(\"ROC curve\")\n",
    "\n",
    "    plt.plot(fpr, tpr)\n",
    "\n",
    "    plt.xlabel(\"FPR\")\n",
    "    plt.ylabel(\"TPR\")\n",
    "\n",
    "    x = np.linspace(0, 1, 100)\n",
    "    y = x\n",
    "    plt.plot(x, y, ls=\":\", color=\"black\")\n",
    "\n",
    "    plt.show()\n",
    "    \n",
    "    RocCurveDisplay.from_predictions(y_test, probs_1)\n",
    "\n",
    "    x = np.linspace(0, 1, 100)\n",
    "    y = x\n",
    "    plt.plot(x, y, ls=\":\", color=\"black\")\n",
    "\n",
    "    plt.show()\n",
    "    \n",
    "    roc_score = roc_auc_score(y_test, probs_1 )\n",
    "    \n",
    "    print(\"\\nROC AUC SCORE:\", roc_score)\n",
    "\n",
    "    \n",
    "def pipe_pre_process(df, drop_not_features=[\"TARGET\"], col_target=\"TARGET\",\n",
    "                             inputer_num_strategy=\"mean\",\n",
    "                             encoding=\"onehot\"):\n",
    "    '''\n",
    "    - inputer_num_strategy (str): \"mean\", \"median\";\n",
    "    - encoding (str): \"onehot\" para OneHotEncoder; \"ordinal\" OrdinalEncoder;\n",
    "    '''\n",
    "    \n",
    "\n",
    "    X = df.drop(columns=drop_not_features)\n",
    "    y = df[col_target]\n",
    "\n",
    "    X_train, X_test, y_train, y_test = train_test_split(X, y, test_size=0.2, random_state=42, stratify=y)\n",
    "\n",
    "    # ==========================================================\n",
    "\n",
    "    pipe_features_num = Pipeline([(\"input_num\", SimpleImputer(strategy=inputer_num_strategy)),\n",
    "                                  (\"std\", StandardScaler())])\n",
    "\n",
    "    features_num = X_train.select_dtypes(include=np.number).columns.tolist()\n",
    "\n",
    "    # ==========================================================\n",
    "\n",
    "    if encoding == \"onehot\":\n",
    "    \n",
    "        pipe_features_cat = Pipeline([(\"input_cat\", SimpleImputer(strategy=\"constant\", fill_value=\"unknown\")),\n",
    "                                      (\"onehot\", OneHotEncoder(handle_unknown=\"ignore\"))])\n",
    "        \n",
    "    elif encoding == \"ordinal\":\n",
    "        \n",
    "        pipe_features_cat = Pipeline([(\"input_cat\", SimpleImputer(strategy=\"constant\", fill_value=\"unknown\")),\n",
    "                                      (\"ordinal\", OrdinalEncoder(handle_unknown=\"use_encoded_value\",\n",
    "                                                                 unknown_value=-1))])\n",
    "    \n",
    "    else:\n",
    "        \n",
    "        raise ValueError(\"Únicos encodings disponíveis são 'ordinal' e 'onehot'\")\n",
    "        \n",
    "        \n",
    "    features_cat = X_train.select_dtypes(exclude=np.number).columns.tolist()\n",
    "\n",
    "    # ==========================================================\n",
    "\n",
    "    pre_processador = ColumnTransformer([(\"transf_num\", pipe_features_num, features_num),\n",
    "                                         (\"transf_cat\", pipe_features_cat, features_cat)])\n",
    "\n",
    "    return X_train, X_test, y_train, y_test, pre_processador"
   ]
  },
  {
   "cell_type": "code",
   "execution_count": 3,
   "id": "74d88957",
   "metadata": {},
   "outputs": [],
   "source": [
    "# carregando o dataset\n",
    "\n",
    "df = pd.read_csv(\"./dados/application_train.csv\")"
   ]
  },
  {
   "cell_type": "code",
   "execution_count": 4,
   "id": "4e034521",
   "metadata": {},
   "outputs": [
    {
     "data": {
      "text/html": [
       "<div>\n",
       "<style scoped>\n",
       "    .dataframe tbody tr th:only-of-type {\n",
       "        vertical-align: middle;\n",
       "    }\n",
       "\n",
       "    .dataframe tbody tr th {\n",
       "        vertical-align: top;\n",
       "    }\n",
       "\n",
       "    .dataframe thead th {\n",
       "        text-align: right;\n",
       "    }\n",
       "</style>\n",
       "<table border=\"1\" class=\"dataframe\">\n",
       "  <thead>\n",
       "    <tr style=\"text-align: right;\">\n",
       "      <th></th>\n",
       "      <th>SK_ID_CURR</th>\n",
       "      <th>TARGET</th>\n",
       "      <th>NAME_CONTRACT_TYPE</th>\n",
       "      <th>CODE_GENDER</th>\n",
       "      <th>FLAG_OWN_CAR</th>\n",
       "      <th>FLAG_OWN_REALTY</th>\n",
       "      <th>CNT_CHILDREN</th>\n",
       "      <th>AMT_INCOME_TOTAL</th>\n",
       "      <th>AMT_CREDIT</th>\n",
       "      <th>AMT_ANNUITY</th>\n",
       "      <th>...</th>\n",
       "      <th>FLAG_DOCUMENT_18</th>\n",
       "      <th>FLAG_DOCUMENT_19</th>\n",
       "      <th>FLAG_DOCUMENT_20</th>\n",
       "      <th>FLAG_DOCUMENT_21</th>\n",
       "      <th>AMT_REQ_CREDIT_BUREAU_HOUR</th>\n",
       "      <th>AMT_REQ_CREDIT_BUREAU_DAY</th>\n",
       "      <th>AMT_REQ_CREDIT_BUREAU_WEEK</th>\n",
       "      <th>AMT_REQ_CREDIT_BUREAU_MON</th>\n",
       "      <th>AMT_REQ_CREDIT_BUREAU_QRT</th>\n",
       "      <th>AMT_REQ_CREDIT_BUREAU_YEAR</th>\n",
       "    </tr>\n",
       "  </thead>\n",
       "  <tbody>\n",
       "    <tr>\n",
       "      <th>0</th>\n",
       "      <td>456162</td>\n",
       "      <td>0</td>\n",
       "      <td>Cash loans</td>\n",
       "      <td>F</td>\n",
       "      <td>N</td>\n",
       "      <td>N</td>\n",
       "      <td>0</td>\n",
       "      <td>112500.0</td>\n",
       "      <td>700830.0</td>\n",
       "      <td>22738.5</td>\n",
       "      <td>...</td>\n",
       "      <td>0</td>\n",
       "      <td>0</td>\n",
       "      <td>0</td>\n",
       "      <td>0</td>\n",
       "      <td>0.0</td>\n",
       "      <td>0.0</td>\n",
       "      <td>0.0</td>\n",
       "      <td>0.0</td>\n",
       "      <td>0.0</td>\n",
       "      <td>1.0</td>\n",
       "    </tr>\n",
       "    <tr>\n",
       "      <th>1</th>\n",
       "      <td>134978</td>\n",
       "      <td>0</td>\n",
       "      <td>Cash loans</td>\n",
       "      <td>F</td>\n",
       "      <td>N</td>\n",
       "      <td>N</td>\n",
       "      <td>0</td>\n",
       "      <td>90000.0</td>\n",
       "      <td>375322.5</td>\n",
       "      <td>14422.5</td>\n",
       "      <td>...</td>\n",
       "      <td>0</td>\n",
       "      <td>0</td>\n",
       "      <td>0</td>\n",
       "      <td>0</td>\n",
       "      <td>0.0</td>\n",
       "      <td>0.0</td>\n",
       "      <td>0.0</td>\n",
       "      <td>1.0</td>\n",
       "      <td>0.0</td>\n",
       "      <td>3.0</td>\n",
       "    </tr>\n",
       "    <tr>\n",
       "      <th>2</th>\n",
       "      <td>318952</td>\n",
       "      <td>0</td>\n",
       "      <td>Cash loans</td>\n",
       "      <td>M</td>\n",
       "      <td>Y</td>\n",
       "      <td>N</td>\n",
       "      <td>0</td>\n",
       "      <td>180000.0</td>\n",
       "      <td>544491.0</td>\n",
       "      <td>16047.0</td>\n",
       "      <td>...</td>\n",
       "      <td>0</td>\n",
       "      <td>0</td>\n",
       "      <td>0</td>\n",
       "      <td>0</td>\n",
       "      <td>0.0</td>\n",
       "      <td>0.0</td>\n",
       "      <td>0.0</td>\n",
       "      <td>1.0</td>\n",
       "      <td>1.0</td>\n",
       "      <td>3.0</td>\n",
       "    </tr>\n",
       "    <tr>\n",
       "      <th>3</th>\n",
       "      <td>361264</td>\n",
       "      <td>0</td>\n",
       "      <td>Cash loans</td>\n",
       "      <td>F</td>\n",
       "      <td>N</td>\n",
       "      <td>Y</td>\n",
       "      <td>0</td>\n",
       "      <td>270000.0</td>\n",
       "      <td>814041.0</td>\n",
       "      <td>28971.0</td>\n",
       "      <td>...</td>\n",
       "      <td>0</td>\n",
       "      <td>0</td>\n",
       "      <td>0</td>\n",
       "      <td>0</td>\n",
       "      <td>0.0</td>\n",
       "      <td>0.0</td>\n",
       "      <td>0.0</td>\n",
       "      <td>0.0</td>\n",
       "      <td>1.0</td>\n",
       "      <td>4.0</td>\n",
       "    </tr>\n",
       "    <tr>\n",
       "      <th>4</th>\n",
       "      <td>260639</td>\n",
       "      <td>0</td>\n",
       "      <td>Cash loans</td>\n",
       "      <td>F</td>\n",
       "      <td>N</td>\n",
       "      <td>Y</td>\n",
       "      <td>0</td>\n",
       "      <td>144000.0</td>\n",
       "      <td>675000.0</td>\n",
       "      <td>21906.0</td>\n",
       "      <td>...</td>\n",
       "      <td>0</td>\n",
       "      <td>0</td>\n",
       "      <td>0</td>\n",
       "      <td>0</td>\n",
       "      <td>0.0</td>\n",
       "      <td>0.0</td>\n",
       "      <td>0.0</td>\n",
       "      <td>10.0</td>\n",
       "      <td>0.0</td>\n",
       "      <td>0.0</td>\n",
       "    </tr>\n",
       "  </tbody>\n",
       "</table>\n",
       "<p>5 rows × 122 columns</p>\n",
       "</div>"
      ],
      "text/plain": [
       "   SK_ID_CURR  TARGET NAME_CONTRACT_TYPE CODE_GENDER FLAG_OWN_CAR  \\\n",
       "0      456162       0         Cash loans           F            N   \n",
       "1      134978       0         Cash loans           F            N   \n",
       "2      318952       0         Cash loans           M            Y   \n",
       "3      361264       0         Cash loans           F            N   \n",
       "4      260639       0         Cash loans           F            N   \n",
       "\n",
       "  FLAG_OWN_REALTY  CNT_CHILDREN  AMT_INCOME_TOTAL  AMT_CREDIT  AMT_ANNUITY  \\\n",
       "0               N             0          112500.0    700830.0      22738.5   \n",
       "1               N             0           90000.0    375322.5      14422.5   \n",
       "2               N             0          180000.0    544491.0      16047.0   \n",
       "3               Y             0          270000.0    814041.0      28971.0   \n",
       "4               Y             0          144000.0    675000.0      21906.0   \n",
       "\n",
       "   ...  FLAG_DOCUMENT_18 FLAG_DOCUMENT_19 FLAG_DOCUMENT_20 FLAG_DOCUMENT_21  \\\n",
       "0  ...                 0                0                0                0   \n",
       "1  ...                 0                0                0                0   \n",
       "2  ...                 0                0                0                0   \n",
       "3  ...                 0                0                0                0   \n",
       "4  ...                 0                0                0                0   \n",
       "\n",
       "  AMT_REQ_CREDIT_BUREAU_HOUR AMT_REQ_CREDIT_BUREAU_DAY  \\\n",
       "0                        0.0                       0.0   \n",
       "1                        0.0                       0.0   \n",
       "2                        0.0                       0.0   \n",
       "3                        0.0                       0.0   \n",
       "4                        0.0                       0.0   \n",
       "\n",
       "   AMT_REQ_CREDIT_BUREAU_WEEK  AMT_REQ_CREDIT_BUREAU_MON  \\\n",
       "0                         0.0                        0.0   \n",
       "1                         0.0                        1.0   \n",
       "2                         0.0                        1.0   \n",
       "3                         0.0                        0.0   \n",
       "4                         0.0                       10.0   \n",
       "\n",
       "   AMT_REQ_CREDIT_BUREAU_QRT  AMT_REQ_CREDIT_BUREAU_YEAR  \n",
       "0                        0.0                         1.0  \n",
       "1                        0.0                         3.0  \n",
       "2                        1.0                         3.0  \n",
       "3                        1.0                         4.0  \n",
       "4                        0.0                         0.0  \n",
       "\n",
       "[5 rows x 122 columns]"
      ]
     },
     "execution_count": 4,
     "metadata": {},
     "output_type": "execute_result"
    }
   ],
   "source": [
    "# visualização do dataset\n",
    "\n",
    "df.head()"
   ]
  },
  {
   "cell_type": "code",
   "execution_count": 5,
   "id": "be6b8703",
   "metadata": {},
   "outputs": [
    {
     "name": "stdout",
     "output_type": "stream",
     "text": [
      "<class 'pandas.core.frame.DataFrame'>\n",
      "RangeIndex: 246008 entries, 0 to 246007\n",
      "Columns: 122 entries, SK_ID_CURR to AMT_REQ_CREDIT_BUREAU_YEAR\n",
      "dtypes: float64(65), int64(41), object(16)\n",
      "memory usage: 229.0+ MB\n"
     ]
    }
   ],
   "source": [
    "# visualização geral dos dados, temos: 65 variavéis numéricas contínuas,\n",
    "# 41 variáveis numéricas discretas e 16 variáveis categóricas\n",
    "\n",
    "df.info()"
   ]
  },
  {
   "cell_type": "code",
   "execution_count": 6,
   "id": "371fc937",
   "metadata": {},
   "outputs": [
    {
     "data": {
      "text/plain": [
       "(246008, 122)"
      ]
     },
     "execution_count": 6,
     "metadata": {},
     "output_type": "execute_result"
    }
   ],
   "source": [
    "# consultando o tamanho da base\n",
    "\n",
    "df.shape"
   ]
  },
  {
   "cell_type": "code",
   "execution_count": 7,
   "id": "03db0863",
   "metadata": {},
   "outputs": [
    {
     "data": {
      "text/plain": [
       "Index(['SK_ID_CURR', 'TARGET', 'NAME_CONTRACT_TYPE', 'CODE_GENDER',\n",
       "       'FLAG_OWN_CAR', 'FLAG_OWN_REALTY', 'CNT_CHILDREN', 'AMT_INCOME_TOTAL',\n",
       "       'AMT_CREDIT', 'AMT_ANNUITY',\n",
       "       ...\n",
       "       'FLAG_DOCUMENT_18', 'FLAG_DOCUMENT_19', 'FLAG_DOCUMENT_20',\n",
       "       'FLAG_DOCUMENT_21', 'AMT_REQ_CREDIT_BUREAU_HOUR',\n",
       "       'AMT_REQ_CREDIT_BUREAU_DAY', 'AMT_REQ_CREDIT_BUREAU_WEEK',\n",
       "       'AMT_REQ_CREDIT_BUREAU_MON', 'AMT_REQ_CREDIT_BUREAU_QRT',\n",
       "       'AMT_REQ_CREDIT_BUREAU_YEAR'],\n",
       "      dtype='object', length=122)"
      ]
     },
     "execution_count": 7,
     "metadata": {},
     "output_type": "execute_result"
    }
   ],
   "source": [
    "# visualização das colunas disponíveis e o número total de colunas\n",
    "\n",
    "df.columns"
   ]
  },
  {
   "cell_type": "code",
   "execution_count": 8,
   "id": "ab9aba77",
   "metadata": {},
   "outputs": [
    {
     "data": {
      "text/html": [
       "<div>\n",
       "<style scoped>\n",
       "    .dataframe tbody tr th:only-of-type {\n",
       "        vertical-align: middle;\n",
       "    }\n",
       "\n",
       "    .dataframe tbody tr th {\n",
       "        vertical-align: top;\n",
       "    }\n",
       "\n",
       "    .dataframe thead th {\n",
       "        text-align: right;\n",
       "    }\n",
       "</style>\n",
       "<table border=\"1\" class=\"dataframe\">\n",
       "  <thead>\n",
       "    <tr style=\"text-align: right;\">\n",
       "      <th></th>\n",
       "      <th>SK_ID_CURR</th>\n",
       "      <th>TARGET</th>\n",
       "      <th>CNT_CHILDREN</th>\n",
       "      <th>AMT_INCOME_TOTAL</th>\n",
       "      <th>AMT_CREDIT</th>\n",
       "      <th>AMT_ANNUITY</th>\n",
       "      <th>AMT_GOODS_PRICE</th>\n",
       "      <th>REGION_POPULATION_RELATIVE</th>\n",
       "      <th>DAYS_BIRTH</th>\n",
       "      <th>DAYS_EMPLOYED</th>\n",
       "      <th>...</th>\n",
       "      <th>FLAG_DOCUMENT_18</th>\n",
       "      <th>FLAG_DOCUMENT_19</th>\n",
       "      <th>FLAG_DOCUMENT_20</th>\n",
       "      <th>FLAG_DOCUMENT_21</th>\n",
       "      <th>AMT_REQ_CREDIT_BUREAU_HOUR</th>\n",
       "      <th>AMT_REQ_CREDIT_BUREAU_DAY</th>\n",
       "      <th>AMT_REQ_CREDIT_BUREAU_WEEK</th>\n",
       "      <th>AMT_REQ_CREDIT_BUREAU_MON</th>\n",
       "      <th>AMT_REQ_CREDIT_BUREAU_QRT</th>\n",
       "      <th>AMT_REQ_CREDIT_BUREAU_YEAR</th>\n",
       "    </tr>\n",
       "  </thead>\n",
       "  <tbody>\n",
       "    <tr>\n",
       "      <th>count</th>\n",
       "      <td>246008.0</td>\n",
       "      <td>246008.0</td>\n",
       "      <td>246008.0</td>\n",
       "      <td>246008.0</td>\n",
       "      <td>246008.0</td>\n",
       "      <td>245998.0</td>\n",
       "      <td>245782.0</td>\n",
       "      <td>246008.0</td>\n",
       "      <td>246008.0</td>\n",
       "      <td>246008.0</td>\n",
       "      <td>...</td>\n",
       "      <td>246008.0</td>\n",
       "      <td>246008.0</td>\n",
       "      <td>246008.0</td>\n",
       "      <td>246008.0</td>\n",
       "      <td>212836.0</td>\n",
       "      <td>212836.0</td>\n",
       "      <td>212836.0</td>\n",
       "      <td>212836.0</td>\n",
       "      <td>212836.0</td>\n",
       "      <td>212836.0</td>\n",
       "    </tr>\n",
       "    <tr>\n",
       "      <th>mean</th>\n",
       "      <td>278280.1</td>\n",
       "      <td>0.1</td>\n",
       "      <td>0.4</td>\n",
       "      <td>168912.2</td>\n",
       "      <td>599628.3</td>\n",
       "      <td>27129.2</td>\n",
       "      <td>538928.9</td>\n",
       "      <td>0.0</td>\n",
       "      <td>-16042.8</td>\n",
       "      <td>63963.8</td>\n",
       "      <td>...</td>\n",
       "      <td>0.0</td>\n",
       "      <td>0.0</td>\n",
       "      <td>0.0</td>\n",
       "      <td>0.0</td>\n",
       "      <td>0.0</td>\n",
       "      <td>0.0</td>\n",
       "      <td>0.0</td>\n",
       "      <td>0.3</td>\n",
       "      <td>0.3</td>\n",
       "      <td>1.9</td>\n",
       "    </tr>\n",
       "    <tr>\n",
       "      <th>std</th>\n",
       "      <td>102790.9</td>\n",
       "      <td>0.3</td>\n",
       "      <td>0.7</td>\n",
       "      <td>260381.8</td>\n",
       "      <td>403067.2</td>\n",
       "      <td>14505.0</td>\n",
       "      <td>369973.8</td>\n",
       "      <td>0.0</td>\n",
       "      <td>4366.0</td>\n",
       "      <td>141400.3</td>\n",
       "      <td>...</td>\n",
       "      <td>0.1</td>\n",
       "      <td>0.0</td>\n",
       "      <td>0.0</td>\n",
       "      <td>0.0</td>\n",
       "      <td>0.1</td>\n",
       "      <td>0.1</td>\n",
       "      <td>0.2</td>\n",
       "      <td>0.9</td>\n",
       "      <td>0.6</td>\n",
       "      <td>1.9</td>\n",
       "    </tr>\n",
       "    <tr>\n",
       "      <th>min</th>\n",
       "      <td>100002.0</td>\n",
       "      <td>0.0</td>\n",
       "      <td>0.0</td>\n",
       "      <td>25650.0</td>\n",
       "      <td>45000.0</td>\n",
       "      <td>1615.5</td>\n",
       "      <td>40500.0</td>\n",
       "      <td>0.0</td>\n",
       "      <td>-25229.0</td>\n",
       "      <td>-17912.0</td>\n",
       "      <td>...</td>\n",
       "      <td>0.0</td>\n",
       "      <td>0.0</td>\n",
       "      <td>0.0</td>\n",
       "      <td>0.0</td>\n",
       "      <td>0.0</td>\n",
       "      <td>0.0</td>\n",
       "      <td>0.0</td>\n",
       "      <td>0.0</td>\n",
       "      <td>0.0</td>\n",
       "      <td>0.0</td>\n",
       "    </tr>\n",
       "    <tr>\n",
       "      <th>25%</th>\n",
       "      <td>189165.5</td>\n",
       "      <td>0.0</td>\n",
       "      <td>0.0</td>\n",
       "      <td>112500.0</td>\n",
       "      <td>270000.0</td>\n",
       "      <td>16561.1</td>\n",
       "      <td>238500.0</td>\n",
       "      <td>0.0</td>\n",
       "      <td>-19691.0</td>\n",
       "      <td>-2758.0</td>\n",
       "      <td>...</td>\n",
       "      <td>0.0</td>\n",
       "      <td>0.0</td>\n",
       "      <td>0.0</td>\n",
       "      <td>0.0</td>\n",
       "      <td>0.0</td>\n",
       "      <td>0.0</td>\n",
       "      <td>0.0</td>\n",
       "      <td>0.0</td>\n",
       "      <td>0.0</td>\n",
       "      <td>0.0</td>\n",
       "    </tr>\n",
       "    <tr>\n",
       "      <th>50%</th>\n",
       "      <td>278392.5</td>\n",
       "      <td>0.0</td>\n",
       "      <td>0.0</td>\n",
       "      <td>148500.0</td>\n",
       "      <td>514777.5</td>\n",
       "      <td>24930.0</td>\n",
       "      <td>450000.0</td>\n",
       "      <td>0.0</td>\n",
       "      <td>-15763.0</td>\n",
       "      <td>-1215.0</td>\n",
       "      <td>...</td>\n",
       "      <td>0.0</td>\n",
       "      <td>0.0</td>\n",
       "      <td>0.0</td>\n",
       "      <td>0.0</td>\n",
       "      <td>0.0</td>\n",
       "      <td>0.0</td>\n",
       "      <td>0.0</td>\n",
       "      <td>0.0</td>\n",
       "      <td>0.0</td>\n",
       "      <td>1.0</td>\n",
       "    </tr>\n",
       "    <tr>\n",
       "      <th>75%</th>\n",
       "      <td>367272.2</td>\n",
       "      <td>0.0</td>\n",
       "      <td>1.0</td>\n",
       "      <td>202500.0</td>\n",
       "      <td>808650.0</td>\n",
       "      <td>34599.4</td>\n",
       "      <td>679500.0</td>\n",
       "      <td>0.0</td>\n",
       "      <td>-12418.0</td>\n",
       "      <td>-289.0</td>\n",
       "      <td>...</td>\n",
       "      <td>0.0</td>\n",
       "      <td>0.0</td>\n",
       "      <td>0.0</td>\n",
       "      <td>0.0</td>\n",
       "      <td>0.0</td>\n",
       "      <td>0.0</td>\n",
       "      <td>0.0</td>\n",
       "      <td>0.0</td>\n",
       "      <td>0.0</td>\n",
       "      <td>3.0</td>\n",
       "    </tr>\n",
       "    <tr>\n",
       "      <th>max</th>\n",
       "      <td>456255.0</td>\n",
       "      <td>1.0</td>\n",
       "      <td>19.0</td>\n",
       "      <td>117000000.0</td>\n",
       "      <td>4050000.0</td>\n",
       "      <td>258025.5</td>\n",
       "      <td>4050000.0</td>\n",
       "      <td>0.1</td>\n",
       "      <td>-7489.0</td>\n",
       "      <td>365243.0</td>\n",
       "      <td>...</td>\n",
       "      <td>1.0</td>\n",
       "      <td>1.0</td>\n",
       "      <td>1.0</td>\n",
       "      <td>1.0</td>\n",
       "      <td>4.0</td>\n",
       "      <td>9.0</td>\n",
       "      <td>8.0</td>\n",
       "      <td>27.0</td>\n",
       "      <td>19.0</td>\n",
       "      <td>23.0</td>\n",
       "    </tr>\n",
       "  </tbody>\n",
       "</table>\n",
       "<p>8 rows × 106 columns</p>\n",
       "</div>"
      ],
      "text/plain": [
       "       SK_ID_CURR    TARGET  CNT_CHILDREN  AMT_INCOME_TOTAL  AMT_CREDIT  \\\n",
       "count    246008.0  246008.0      246008.0          246008.0    246008.0   \n",
       "mean     278280.1       0.1           0.4          168912.2    599628.3   \n",
       "std      102790.9       0.3           0.7          260381.8    403067.2   \n",
       "min      100002.0       0.0           0.0           25650.0     45000.0   \n",
       "25%      189165.5       0.0           0.0          112500.0    270000.0   \n",
       "50%      278392.5       0.0           0.0          148500.0    514777.5   \n",
       "75%      367272.2       0.0           1.0          202500.0    808650.0   \n",
       "max      456255.0       1.0          19.0       117000000.0   4050000.0   \n",
       "\n",
       "       AMT_ANNUITY  AMT_GOODS_PRICE  REGION_POPULATION_RELATIVE  DAYS_BIRTH  \\\n",
       "count     245998.0         245782.0                    246008.0    246008.0   \n",
       "mean       27129.2         538928.9                         0.0    -16042.8   \n",
       "std        14505.0         369973.8                         0.0      4366.0   \n",
       "min         1615.5          40500.0                         0.0    -25229.0   \n",
       "25%        16561.1         238500.0                         0.0    -19691.0   \n",
       "50%        24930.0         450000.0                         0.0    -15763.0   \n",
       "75%        34599.4         679500.0                         0.0    -12418.0   \n",
       "max       258025.5        4050000.0                         0.1     -7489.0   \n",
       "\n",
       "       DAYS_EMPLOYED  ...  FLAG_DOCUMENT_18  FLAG_DOCUMENT_19  \\\n",
       "count       246008.0  ...          246008.0          246008.0   \n",
       "mean         63963.8  ...               0.0               0.0   \n",
       "std         141400.3  ...               0.1               0.0   \n",
       "min         -17912.0  ...               0.0               0.0   \n",
       "25%          -2758.0  ...               0.0               0.0   \n",
       "50%          -1215.0  ...               0.0               0.0   \n",
       "75%           -289.0  ...               0.0               0.0   \n",
       "max         365243.0  ...               1.0               1.0   \n",
       "\n",
       "       FLAG_DOCUMENT_20  FLAG_DOCUMENT_21  AMT_REQ_CREDIT_BUREAU_HOUR  \\\n",
       "count          246008.0          246008.0                    212836.0   \n",
       "mean                0.0               0.0                         0.0   \n",
       "std                 0.0               0.0                         0.1   \n",
       "min                 0.0               0.0                         0.0   \n",
       "25%                 0.0               0.0                         0.0   \n",
       "50%                 0.0               0.0                         0.0   \n",
       "75%                 0.0               0.0                         0.0   \n",
       "max                 1.0               1.0                         4.0   \n",
       "\n",
       "       AMT_REQ_CREDIT_BUREAU_DAY  AMT_REQ_CREDIT_BUREAU_WEEK  \\\n",
       "count                   212836.0                    212836.0   \n",
       "mean                         0.0                         0.0   \n",
       "std                          0.1                         0.2   \n",
       "min                          0.0                         0.0   \n",
       "25%                          0.0                         0.0   \n",
       "50%                          0.0                         0.0   \n",
       "75%                          0.0                         0.0   \n",
       "max                          9.0                         8.0   \n",
       "\n",
       "       AMT_REQ_CREDIT_BUREAU_MON  AMT_REQ_CREDIT_BUREAU_QRT  \\\n",
       "count                   212836.0                   212836.0   \n",
       "mean                         0.3                        0.3   \n",
       "std                          0.9                        0.6   \n",
       "min                          0.0                        0.0   \n",
       "25%                          0.0                        0.0   \n",
       "50%                          0.0                        0.0   \n",
       "75%                          0.0                        0.0   \n",
       "max                         27.0                       19.0   \n",
       "\n",
       "       AMT_REQ_CREDIT_BUREAU_YEAR  \n",
       "count                    212836.0  \n",
       "mean                          1.9  \n",
       "std                           1.9  \n",
       "min                           0.0  \n",
       "25%                           0.0  \n",
       "50%                           1.0  \n",
       "75%                           3.0  \n",
       "max                          23.0  \n",
       "\n",
       "[8 rows x 106 columns]"
      ]
     },
     "execution_count": 8,
     "metadata": {},
     "output_type": "execute_result"
    }
   ],
   "source": [
    "# visualização das estatísticas gerais\n",
    "\n",
    "df.describe().apply(lambda x: round(x, 1))"
   ]
  },
  {
   "cell_type": "code",
   "execution_count": 9,
   "id": "97ffb518",
   "metadata": {},
   "outputs": [
    {
     "data": {
      "text/html": [
       "<div>\n",
       "<style scoped>\n",
       "    .dataframe tbody tr th:only-of-type {\n",
       "        vertical-align: middle;\n",
       "    }\n",
       "\n",
       "    .dataframe tbody tr th {\n",
       "        vertical-align: top;\n",
       "    }\n",
       "\n",
       "    .dataframe thead th {\n",
       "        text-align: right;\n",
       "    }\n",
       "</style>\n",
       "<table border=\"1\" class=\"dataframe\">\n",
       "  <thead>\n",
       "    <tr style=\"text-align: right;\">\n",
       "      <th></th>\n",
       "      <th>SK_ID_CURR</th>\n",
       "      <th>TARGET</th>\n",
       "      <th>CNT_CHILDREN</th>\n",
       "      <th>AMT_INCOME_TOTAL</th>\n",
       "      <th>AMT_CREDIT</th>\n",
       "      <th>AMT_ANNUITY</th>\n",
       "      <th>AMT_GOODS_PRICE</th>\n",
       "      <th>REGION_POPULATION_RELATIVE</th>\n",
       "      <th>DAYS_BIRTH</th>\n",
       "      <th>DAYS_EMPLOYED</th>\n",
       "      <th>...</th>\n",
       "      <th>FLAG_DOCUMENT_18</th>\n",
       "      <th>FLAG_DOCUMENT_19</th>\n",
       "      <th>FLAG_DOCUMENT_20</th>\n",
       "      <th>FLAG_DOCUMENT_21</th>\n",
       "      <th>AMT_REQ_CREDIT_BUREAU_HOUR</th>\n",
       "      <th>AMT_REQ_CREDIT_BUREAU_DAY</th>\n",
       "      <th>AMT_REQ_CREDIT_BUREAU_WEEK</th>\n",
       "      <th>AMT_REQ_CREDIT_BUREAU_MON</th>\n",
       "      <th>AMT_REQ_CREDIT_BUREAU_QRT</th>\n",
       "      <th>AMT_REQ_CREDIT_BUREAU_YEAR</th>\n",
       "    </tr>\n",
       "  </thead>\n",
       "  <tbody>\n",
       "    <tr>\n",
       "      <th>0</th>\n",
       "      <td>456162</td>\n",
       "      <td>0</td>\n",
       "      <td>0</td>\n",
       "      <td>112500.0</td>\n",
       "      <td>700830.0</td>\n",
       "      <td>22738.5</td>\n",
       "      <td>585000.0</td>\n",
       "      <td>0.019689</td>\n",
       "      <td>-8676</td>\n",
       "      <td>-813</td>\n",
       "      <td>...</td>\n",
       "      <td>0</td>\n",
       "      <td>0</td>\n",
       "      <td>0</td>\n",
       "      <td>0</td>\n",
       "      <td>0.0</td>\n",
       "      <td>0.0</td>\n",
       "      <td>0.0</td>\n",
       "      <td>0.0</td>\n",
       "      <td>0.0</td>\n",
       "      <td>1.0</td>\n",
       "    </tr>\n",
       "    <tr>\n",
       "      <th>1</th>\n",
       "      <td>134978</td>\n",
       "      <td>0</td>\n",
       "      <td>0</td>\n",
       "      <td>90000.0</td>\n",
       "      <td>375322.5</td>\n",
       "      <td>14422.5</td>\n",
       "      <td>324000.0</td>\n",
       "      <td>0.025164</td>\n",
       "      <td>-13583</td>\n",
       "      <td>-223</td>\n",
       "      <td>...</td>\n",
       "      <td>0</td>\n",
       "      <td>0</td>\n",
       "      <td>0</td>\n",
       "      <td>0</td>\n",
       "      <td>0.0</td>\n",
       "      <td>0.0</td>\n",
       "      <td>0.0</td>\n",
       "      <td>1.0</td>\n",
       "      <td>0.0</td>\n",
       "      <td>3.0</td>\n",
       "    </tr>\n",
       "    <tr>\n",
       "      <th>2</th>\n",
       "      <td>318952</td>\n",
       "      <td>0</td>\n",
       "      <td>0</td>\n",
       "      <td>180000.0</td>\n",
       "      <td>544491.0</td>\n",
       "      <td>16047.0</td>\n",
       "      <td>454500.0</td>\n",
       "      <td>0.035792</td>\n",
       "      <td>-13993</td>\n",
       "      <td>-6202</td>\n",
       "      <td>...</td>\n",
       "      <td>0</td>\n",
       "      <td>0</td>\n",
       "      <td>0</td>\n",
       "      <td>0</td>\n",
       "      <td>0.0</td>\n",
       "      <td>0.0</td>\n",
       "      <td>0.0</td>\n",
       "      <td>1.0</td>\n",
       "      <td>1.0</td>\n",
       "      <td>3.0</td>\n",
       "    </tr>\n",
       "    <tr>\n",
       "      <th>3</th>\n",
       "      <td>361264</td>\n",
       "      <td>0</td>\n",
       "      <td>0</td>\n",
       "      <td>270000.0</td>\n",
       "      <td>814041.0</td>\n",
       "      <td>28971.0</td>\n",
       "      <td>679500.0</td>\n",
       "      <td>0.046220</td>\n",
       "      <td>-22425</td>\n",
       "      <td>365243</td>\n",
       "      <td>...</td>\n",
       "      <td>0</td>\n",
       "      <td>0</td>\n",
       "      <td>0</td>\n",
       "      <td>0</td>\n",
       "      <td>0.0</td>\n",
       "      <td>0.0</td>\n",
       "      <td>0.0</td>\n",
       "      <td>0.0</td>\n",
       "      <td>1.0</td>\n",
       "      <td>4.0</td>\n",
       "    </tr>\n",
       "    <tr>\n",
       "      <th>4</th>\n",
       "      <td>260639</td>\n",
       "      <td>0</td>\n",
       "      <td>0</td>\n",
       "      <td>144000.0</td>\n",
       "      <td>675000.0</td>\n",
       "      <td>21906.0</td>\n",
       "      <td>675000.0</td>\n",
       "      <td>0.026392</td>\n",
       "      <td>-18839</td>\n",
       "      <td>-2763</td>\n",
       "      <td>...</td>\n",
       "      <td>0</td>\n",
       "      <td>0</td>\n",
       "      <td>0</td>\n",
       "      <td>0</td>\n",
       "      <td>0.0</td>\n",
       "      <td>0.0</td>\n",
       "      <td>0.0</td>\n",
       "      <td>10.0</td>\n",
       "      <td>0.0</td>\n",
       "      <td>0.0</td>\n",
       "    </tr>\n",
       "    <tr>\n",
       "      <th>...</th>\n",
       "      <td>...</td>\n",
       "      <td>...</td>\n",
       "      <td>...</td>\n",
       "      <td>...</td>\n",
       "      <td>...</td>\n",
       "      <td>...</td>\n",
       "      <td>...</td>\n",
       "      <td>...</td>\n",
       "      <td>...</td>\n",
       "      <td>...</td>\n",
       "      <td>...</td>\n",
       "      <td>...</td>\n",
       "      <td>...</td>\n",
       "      <td>...</td>\n",
       "      <td>...</td>\n",
       "      <td>...</td>\n",
       "      <td>...</td>\n",
       "      <td>...</td>\n",
       "      <td>...</td>\n",
       "      <td>...</td>\n",
       "      <td>...</td>\n",
       "    </tr>\n",
       "    <tr>\n",
       "      <th>246003</th>\n",
       "      <td>242114</td>\n",
       "      <td>0</td>\n",
       "      <td>1</td>\n",
       "      <td>270000.0</td>\n",
       "      <td>1172470.5</td>\n",
       "      <td>34411.5</td>\n",
       "      <td>918000.0</td>\n",
       "      <td>0.035792</td>\n",
       "      <td>-15992</td>\n",
       "      <td>-4333</td>\n",
       "      <td>...</td>\n",
       "      <td>0</td>\n",
       "      <td>0</td>\n",
       "      <td>0</td>\n",
       "      <td>0</td>\n",
       "      <td>0.0</td>\n",
       "      <td>0.0</td>\n",
       "      <td>0.0</td>\n",
       "      <td>1.0</td>\n",
       "      <td>0.0</td>\n",
       "      <td>8.0</td>\n",
       "    </tr>\n",
       "    <tr>\n",
       "      <th>246004</th>\n",
       "      <td>452374</td>\n",
       "      <td>0</td>\n",
       "      <td>0</td>\n",
       "      <td>180000.0</td>\n",
       "      <td>654498.0</td>\n",
       "      <td>27859.5</td>\n",
       "      <td>585000.0</td>\n",
       "      <td>0.003122</td>\n",
       "      <td>-23798</td>\n",
       "      <td>365243</td>\n",
       "      <td>...</td>\n",
       "      <td>0</td>\n",
       "      <td>0</td>\n",
       "      <td>0</td>\n",
       "      <td>0</td>\n",
       "      <td>0.0</td>\n",
       "      <td>0.0</td>\n",
       "      <td>0.0</td>\n",
       "      <td>0.0</td>\n",
       "      <td>0.0</td>\n",
       "      <td>2.0</td>\n",
       "    </tr>\n",
       "    <tr>\n",
       "      <th>246005</th>\n",
       "      <td>276545</td>\n",
       "      <td>1</td>\n",
       "      <td>1</td>\n",
       "      <td>112500.0</td>\n",
       "      <td>270000.0</td>\n",
       "      <td>13500.0</td>\n",
       "      <td>270000.0</td>\n",
       "      <td>0.011657</td>\n",
       "      <td>-14793</td>\n",
       "      <td>-1982</td>\n",
       "      <td>...</td>\n",
       "      <td>0</td>\n",
       "      <td>0</td>\n",
       "      <td>0</td>\n",
       "      <td>0</td>\n",
       "      <td>NaN</td>\n",
       "      <td>NaN</td>\n",
       "      <td>NaN</td>\n",
       "      <td>NaN</td>\n",
       "      <td>NaN</td>\n",
       "      <td>NaN</td>\n",
       "    </tr>\n",
       "    <tr>\n",
       "      <th>246006</th>\n",
       "      <td>236776</td>\n",
       "      <td>1</td>\n",
       "      <td>3</td>\n",
       "      <td>202500.0</td>\n",
       "      <td>204858.0</td>\n",
       "      <td>17653.5</td>\n",
       "      <td>171000.0</td>\n",
       "      <td>0.016612</td>\n",
       "      <td>-14418</td>\n",
       "      <td>-2840</td>\n",
       "      <td>...</td>\n",
       "      <td>0</td>\n",
       "      <td>0</td>\n",
       "      <td>0</td>\n",
       "      <td>0</td>\n",
       "      <td>0.0</td>\n",
       "      <td>0.0</td>\n",
       "      <td>0.0</td>\n",
       "      <td>0.0</td>\n",
       "      <td>0.0</td>\n",
       "      <td>0.0</td>\n",
       "    </tr>\n",
       "    <tr>\n",
       "      <th>246007</th>\n",
       "      <td>454197</td>\n",
       "      <td>0</td>\n",
       "      <td>2</td>\n",
       "      <td>81000.0</td>\n",
       "      <td>547344.0</td>\n",
       "      <td>23139.0</td>\n",
       "      <td>472500.0</td>\n",
       "      <td>0.031329</td>\n",
       "      <td>-14705</td>\n",
       "      <td>-2084</td>\n",
       "      <td>...</td>\n",
       "      <td>0</td>\n",
       "      <td>0</td>\n",
       "      <td>0</td>\n",
       "      <td>0</td>\n",
       "      <td>0.0</td>\n",
       "      <td>0.0</td>\n",
       "      <td>0.0</td>\n",
       "      <td>0.0</td>\n",
       "      <td>0.0</td>\n",
       "      <td>5.0</td>\n",
       "    </tr>\n",
       "  </tbody>\n",
       "</table>\n",
       "<p>246008 rows × 106 columns</p>\n",
       "</div>"
      ],
      "text/plain": [
       "        SK_ID_CURR  TARGET  CNT_CHILDREN  AMT_INCOME_TOTAL  AMT_CREDIT  \\\n",
       "0           456162       0             0          112500.0    700830.0   \n",
       "1           134978       0             0           90000.0    375322.5   \n",
       "2           318952       0             0          180000.0    544491.0   \n",
       "3           361264       0             0          270000.0    814041.0   \n",
       "4           260639       0             0          144000.0    675000.0   \n",
       "...            ...     ...           ...               ...         ...   \n",
       "246003      242114       0             1          270000.0   1172470.5   \n",
       "246004      452374       0             0          180000.0    654498.0   \n",
       "246005      276545       1             1          112500.0    270000.0   \n",
       "246006      236776       1             3          202500.0    204858.0   \n",
       "246007      454197       0             2           81000.0    547344.0   \n",
       "\n",
       "        AMT_ANNUITY  AMT_GOODS_PRICE  REGION_POPULATION_RELATIVE  DAYS_BIRTH  \\\n",
       "0           22738.5         585000.0                    0.019689       -8676   \n",
       "1           14422.5         324000.0                    0.025164      -13583   \n",
       "2           16047.0         454500.0                    0.035792      -13993   \n",
       "3           28971.0         679500.0                    0.046220      -22425   \n",
       "4           21906.0         675000.0                    0.026392      -18839   \n",
       "...             ...              ...                         ...         ...   \n",
       "246003      34411.5         918000.0                    0.035792      -15992   \n",
       "246004      27859.5         585000.0                    0.003122      -23798   \n",
       "246005      13500.0         270000.0                    0.011657      -14793   \n",
       "246006      17653.5         171000.0                    0.016612      -14418   \n",
       "246007      23139.0         472500.0                    0.031329      -14705   \n",
       "\n",
       "        DAYS_EMPLOYED  ...  FLAG_DOCUMENT_18  FLAG_DOCUMENT_19  \\\n",
       "0                -813  ...                 0                 0   \n",
       "1                -223  ...                 0                 0   \n",
       "2               -6202  ...                 0                 0   \n",
       "3              365243  ...                 0                 0   \n",
       "4               -2763  ...                 0                 0   \n",
       "...               ...  ...               ...               ...   \n",
       "246003          -4333  ...                 0                 0   \n",
       "246004         365243  ...                 0                 0   \n",
       "246005          -1982  ...                 0                 0   \n",
       "246006          -2840  ...                 0                 0   \n",
       "246007          -2084  ...                 0                 0   \n",
       "\n",
       "        FLAG_DOCUMENT_20  FLAG_DOCUMENT_21  AMT_REQ_CREDIT_BUREAU_HOUR  \\\n",
       "0                      0                 0                         0.0   \n",
       "1                      0                 0                         0.0   \n",
       "2                      0                 0                         0.0   \n",
       "3                      0                 0                         0.0   \n",
       "4                      0                 0                         0.0   \n",
       "...                  ...               ...                         ...   \n",
       "246003                 0                 0                         0.0   \n",
       "246004                 0                 0                         0.0   \n",
       "246005                 0                 0                         NaN   \n",
       "246006                 0                 0                         0.0   \n",
       "246007                 0                 0                         0.0   \n",
       "\n",
       "        AMT_REQ_CREDIT_BUREAU_DAY  AMT_REQ_CREDIT_BUREAU_WEEK  \\\n",
       "0                             0.0                         0.0   \n",
       "1                             0.0                         0.0   \n",
       "2                             0.0                         0.0   \n",
       "3                             0.0                         0.0   \n",
       "4                             0.0                         0.0   \n",
       "...                           ...                         ...   \n",
       "246003                        0.0                         0.0   \n",
       "246004                        0.0                         0.0   \n",
       "246005                        NaN                         NaN   \n",
       "246006                        0.0                         0.0   \n",
       "246007                        0.0                         0.0   \n",
       "\n",
       "        AMT_REQ_CREDIT_BUREAU_MON  AMT_REQ_CREDIT_BUREAU_QRT  \\\n",
       "0                             0.0                        0.0   \n",
       "1                             1.0                        0.0   \n",
       "2                             1.0                        1.0   \n",
       "3                             0.0                        1.0   \n",
       "4                            10.0                        0.0   \n",
       "...                           ...                        ...   \n",
       "246003                        1.0                        0.0   \n",
       "246004                        0.0                        0.0   \n",
       "246005                        NaN                        NaN   \n",
       "246006                        0.0                        0.0   \n",
       "246007                        0.0                        0.0   \n",
       "\n",
       "        AMT_REQ_CREDIT_BUREAU_YEAR  \n",
       "0                              1.0  \n",
       "1                              3.0  \n",
       "2                              3.0  \n",
       "3                              4.0  \n",
       "4                              0.0  \n",
       "...                            ...  \n",
       "246003                         8.0  \n",
       "246004                         2.0  \n",
       "246005                         NaN  \n",
       "246006                         0.0  \n",
       "246007                         5.0  \n",
       "\n",
       "[246008 rows x 106 columns]"
      ]
     },
     "execution_count": 9,
     "metadata": {},
     "output_type": "execute_result"
    }
   ],
   "source": [
    "# dataframe apenas com features categóricas\n",
    "\n",
    "df.select_dtypes(include=np.number)"
   ]
  },
  {
   "cell_type": "code",
   "execution_count": 10,
   "id": "f53ffb59",
   "metadata": {},
   "outputs": [
    {
     "data": {
      "text/html": [
       "<div>\n",
       "<style scoped>\n",
       "    .dataframe tbody tr th:only-of-type {\n",
       "        vertical-align: middle;\n",
       "    }\n",
       "\n",
       "    .dataframe tbody tr th {\n",
       "        vertical-align: top;\n",
       "    }\n",
       "\n",
       "    .dataframe thead th {\n",
       "        text-align: right;\n",
       "    }\n",
       "</style>\n",
       "<table border=\"1\" class=\"dataframe\">\n",
       "  <thead>\n",
       "    <tr style=\"text-align: right;\">\n",
       "      <th></th>\n",
       "      <th>NAME_CONTRACT_TYPE</th>\n",
       "      <th>CODE_GENDER</th>\n",
       "      <th>FLAG_OWN_CAR</th>\n",
       "      <th>FLAG_OWN_REALTY</th>\n",
       "      <th>NAME_TYPE_SUITE</th>\n",
       "      <th>NAME_INCOME_TYPE</th>\n",
       "      <th>NAME_EDUCATION_TYPE</th>\n",
       "      <th>NAME_FAMILY_STATUS</th>\n",
       "      <th>NAME_HOUSING_TYPE</th>\n",
       "      <th>OCCUPATION_TYPE</th>\n",
       "      <th>WEEKDAY_APPR_PROCESS_START</th>\n",
       "      <th>ORGANIZATION_TYPE</th>\n",
       "      <th>FONDKAPREMONT_MODE</th>\n",
       "      <th>HOUSETYPE_MODE</th>\n",
       "      <th>WALLSMATERIAL_MODE</th>\n",
       "      <th>EMERGENCYSTATE_MODE</th>\n",
       "    </tr>\n",
       "  </thead>\n",
       "  <tbody>\n",
       "    <tr>\n",
       "      <th>0</th>\n",
       "      <td>Cash loans</td>\n",
       "      <td>F</td>\n",
       "      <td>N</td>\n",
       "      <td>N</td>\n",
       "      <td>Unaccompanied</td>\n",
       "      <td>Working</td>\n",
       "      <td>Incomplete higher</td>\n",
       "      <td>Single / not married</td>\n",
       "      <td>House / apartment</td>\n",
       "      <td>Core staff</td>\n",
       "      <td>FRIDAY</td>\n",
       "      <td>Trade: type 2</td>\n",
       "      <td>reg oper account</td>\n",
       "      <td>block of flats</td>\n",
       "      <td>Block</td>\n",
       "      <td>No</td>\n",
       "    </tr>\n",
       "    <tr>\n",
       "      <th>1</th>\n",
       "      <td>Cash loans</td>\n",
       "      <td>F</td>\n",
       "      <td>N</td>\n",
       "      <td>N</td>\n",
       "      <td>Unaccompanied</td>\n",
       "      <td>Commercial associate</td>\n",
       "      <td>Secondary / secondary special</td>\n",
       "      <td>Married</td>\n",
       "      <td>House / apartment</td>\n",
       "      <td>High skill tech staff</td>\n",
       "      <td>MONDAY</td>\n",
       "      <td>Business Entity Type 3</td>\n",
       "      <td>reg oper account</td>\n",
       "      <td>block of flats</td>\n",
       "      <td>Block</td>\n",
       "      <td>No</td>\n",
       "    </tr>\n",
       "    <tr>\n",
       "      <th>2</th>\n",
       "      <td>Cash loans</td>\n",
       "      <td>M</td>\n",
       "      <td>Y</td>\n",
       "      <td>N</td>\n",
       "      <td>Unaccompanied</td>\n",
       "      <td>Working</td>\n",
       "      <td>Secondary / secondary special</td>\n",
       "      <td>Married</td>\n",
       "      <td>House / apartment</td>\n",
       "      <td>Managers</td>\n",
       "      <td>THURSDAY</td>\n",
       "      <td>Business Entity Type 1</td>\n",
       "      <td>NaN</td>\n",
       "      <td>NaN</td>\n",
       "      <td>NaN</td>\n",
       "      <td>NaN</td>\n",
       "    </tr>\n",
       "    <tr>\n",
       "      <th>3</th>\n",
       "      <td>Cash loans</td>\n",
       "      <td>F</td>\n",
       "      <td>N</td>\n",
       "      <td>Y</td>\n",
       "      <td>Unaccompanied</td>\n",
       "      <td>Pensioner</td>\n",
       "      <td>Secondary / secondary special</td>\n",
       "      <td>Married</td>\n",
       "      <td>House / apartment</td>\n",
       "      <td>NaN</td>\n",
       "      <td>TUESDAY</td>\n",
       "      <td>XNA</td>\n",
       "      <td>NaN</td>\n",
       "      <td>NaN</td>\n",
       "      <td>NaN</td>\n",
       "      <td>No</td>\n",
       "    </tr>\n",
       "    <tr>\n",
       "      <th>4</th>\n",
       "      <td>Cash loans</td>\n",
       "      <td>F</td>\n",
       "      <td>N</td>\n",
       "      <td>Y</td>\n",
       "      <td>Unaccompanied</td>\n",
       "      <td>Working</td>\n",
       "      <td>Secondary / secondary special</td>\n",
       "      <td>Separated</td>\n",
       "      <td>House / apartment</td>\n",
       "      <td>Laborers</td>\n",
       "      <td>FRIDAY</td>\n",
       "      <td>Transport: type 4</td>\n",
       "      <td>reg oper account</td>\n",
       "      <td>block of flats</td>\n",
       "      <td>Panel</td>\n",
       "      <td>No</td>\n",
       "    </tr>\n",
       "    <tr>\n",
       "      <th>...</th>\n",
       "      <td>...</td>\n",
       "      <td>...</td>\n",
       "      <td>...</td>\n",
       "      <td>...</td>\n",
       "      <td>...</td>\n",
       "      <td>...</td>\n",
       "      <td>...</td>\n",
       "      <td>...</td>\n",
       "      <td>...</td>\n",
       "      <td>...</td>\n",
       "      <td>...</td>\n",
       "      <td>...</td>\n",
       "      <td>...</td>\n",
       "      <td>...</td>\n",
       "      <td>...</td>\n",
       "      <td>...</td>\n",
       "    </tr>\n",
       "    <tr>\n",
       "      <th>246003</th>\n",
       "      <td>Cash loans</td>\n",
       "      <td>F</td>\n",
       "      <td>N</td>\n",
       "      <td>Y</td>\n",
       "      <td>Unaccompanied</td>\n",
       "      <td>Commercial associate</td>\n",
       "      <td>Secondary / secondary special</td>\n",
       "      <td>Civil marriage</td>\n",
       "      <td>House / apartment</td>\n",
       "      <td>Sales staff</td>\n",
       "      <td>FRIDAY</td>\n",
       "      <td>Business Entity Type 3</td>\n",
       "      <td>reg oper account</td>\n",
       "      <td>block of flats</td>\n",
       "      <td>Panel</td>\n",
       "      <td>No</td>\n",
       "    </tr>\n",
       "    <tr>\n",
       "      <th>246004</th>\n",
       "      <td>Cash loans</td>\n",
       "      <td>F</td>\n",
       "      <td>N</td>\n",
       "      <td>Y</td>\n",
       "      <td>Unaccompanied</td>\n",
       "      <td>Pensioner</td>\n",
       "      <td>Secondary / secondary special</td>\n",
       "      <td>Married</td>\n",
       "      <td>House / apartment</td>\n",
       "      <td>NaN</td>\n",
       "      <td>SATURDAY</td>\n",
       "      <td>XNA</td>\n",
       "      <td>reg oper spec account</td>\n",
       "      <td>block of flats</td>\n",
       "      <td>Block</td>\n",
       "      <td>No</td>\n",
       "    </tr>\n",
       "    <tr>\n",
       "      <th>246005</th>\n",
       "      <td>Revolving loans</td>\n",
       "      <td>M</td>\n",
       "      <td>N</td>\n",
       "      <td>N</td>\n",
       "      <td>Unaccompanied</td>\n",
       "      <td>Working</td>\n",
       "      <td>Secondary / secondary special</td>\n",
       "      <td>Civil marriage</td>\n",
       "      <td>House / apartment</td>\n",
       "      <td>Laborers</td>\n",
       "      <td>SATURDAY</td>\n",
       "      <td>Business Entity Type 3</td>\n",
       "      <td>reg oper account</td>\n",
       "      <td>block of flats</td>\n",
       "      <td>Panel</td>\n",
       "      <td>No</td>\n",
       "    </tr>\n",
       "    <tr>\n",
       "      <th>246006</th>\n",
       "      <td>Cash loans</td>\n",
       "      <td>M</td>\n",
       "      <td>Y</td>\n",
       "      <td>N</td>\n",
       "      <td>Unaccompanied</td>\n",
       "      <td>Working</td>\n",
       "      <td>Secondary / secondary special</td>\n",
       "      <td>Married</td>\n",
       "      <td>With parents</td>\n",
       "      <td>Laborers</td>\n",
       "      <td>SUNDAY</td>\n",
       "      <td>Self-employed</td>\n",
       "      <td>NaN</td>\n",
       "      <td>NaN</td>\n",
       "      <td>NaN</td>\n",
       "      <td>NaN</td>\n",
       "    </tr>\n",
       "    <tr>\n",
       "      <th>246007</th>\n",
       "      <td>Cash loans</td>\n",
       "      <td>F</td>\n",
       "      <td>N</td>\n",
       "      <td>Y</td>\n",
       "      <td>Unaccompanied</td>\n",
       "      <td>Working</td>\n",
       "      <td>Secondary / secondary special</td>\n",
       "      <td>Married</td>\n",
       "      <td>House / apartment</td>\n",
       "      <td>NaN</td>\n",
       "      <td>FRIDAY</td>\n",
       "      <td>Housing</td>\n",
       "      <td>reg oper account</td>\n",
       "      <td>block of flats</td>\n",
       "      <td>Mixed</td>\n",
       "      <td>No</td>\n",
       "    </tr>\n",
       "  </tbody>\n",
       "</table>\n",
       "<p>246008 rows × 16 columns</p>\n",
       "</div>"
      ],
      "text/plain": [
       "       NAME_CONTRACT_TYPE CODE_GENDER FLAG_OWN_CAR FLAG_OWN_REALTY  \\\n",
       "0              Cash loans           F            N               N   \n",
       "1              Cash loans           F            N               N   \n",
       "2              Cash loans           M            Y               N   \n",
       "3              Cash loans           F            N               Y   \n",
       "4              Cash loans           F            N               Y   \n",
       "...                   ...         ...          ...             ...   \n",
       "246003         Cash loans           F            N               Y   \n",
       "246004         Cash loans           F            N               Y   \n",
       "246005    Revolving loans           M            N               N   \n",
       "246006         Cash loans           M            Y               N   \n",
       "246007         Cash loans           F            N               Y   \n",
       "\n",
       "       NAME_TYPE_SUITE      NAME_INCOME_TYPE            NAME_EDUCATION_TYPE  \\\n",
       "0        Unaccompanied               Working              Incomplete higher   \n",
       "1        Unaccompanied  Commercial associate  Secondary / secondary special   \n",
       "2        Unaccompanied               Working  Secondary / secondary special   \n",
       "3        Unaccompanied             Pensioner  Secondary / secondary special   \n",
       "4        Unaccompanied               Working  Secondary / secondary special   \n",
       "...                ...                   ...                            ...   \n",
       "246003   Unaccompanied  Commercial associate  Secondary / secondary special   \n",
       "246004   Unaccompanied             Pensioner  Secondary / secondary special   \n",
       "246005   Unaccompanied               Working  Secondary / secondary special   \n",
       "246006   Unaccompanied               Working  Secondary / secondary special   \n",
       "246007   Unaccompanied               Working  Secondary / secondary special   \n",
       "\n",
       "          NAME_FAMILY_STATUS  NAME_HOUSING_TYPE        OCCUPATION_TYPE  \\\n",
       "0       Single / not married  House / apartment             Core staff   \n",
       "1                    Married  House / apartment  High skill tech staff   \n",
       "2                    Married  House / apartment               Managers   \n",
       "3                    Married  House / apartment                    NaN   \n",
       "4                  Separated  House / apartment               Laborers   \n",
       "...                      ...                ...                    ...   \n",
       "246003        Civil marriage  House / apartment            Sales staff   \n",
       "246004               Married  House / apartment                    NaN   \n",
       "246005        Civil marriage  House / apartment               Laborers   \n",
       "246006               Married       With parents               Laborers   \n",
       "246007               Married  House / apartment                    NaN   \n",
       "\n",
       "       WEEKDAY_APPR_PROCESS_START       ORGANIZATION_TYPE  \\\n",
       "0                          FRIDAY           Trade: type 2   \n",
       "1                          MONDAY  Business Entity Type 3   \n",
       "2                        THURSDAY  Business Entity Type 1   \n",
       "3                         TUESDAY                     XNA   \n",
       "4                          FRIDAY       Transport: type 4   \n",
       "...                           ...                     ...   \n",
       "246003                     FRIDAY  Business Entity Type 3   \n",
       "246004                   SATURDAY                     XNA   \n",
       "246005                   SATURDAY  Business Entity Type 3   \n",
       "246006                     SUNDAY           Self-employed   \n",
       "246007                     FRIDAY                 Housing   \n",
       "\n",
       "           FONDKAPREMONT_MODE  HOUSETYPE_MODE WALLSMATERIAL_MODE  \\\n",
       "0            reg oper account  block of flats              Block   \n",
       "1            reg oper account  block of flats              Block   \n",
       "2                         NaN             NaN                NaN   \n",
       "3                         NaN             NaN                NaN   \n",
       "4            reg oper account  block of flats              Panel   \n",
       "...                       ...             ...                ...   \n",
       "246003       reg oper account  block of flats              Panel   \n",
       "246004  reg oper spec account  block of flats              Block   \n",
       "246005       reg oper account  block of flats              Panel   \n",
       "246006                    NaN             NaN                NaN   \n",
       "246007       reg oper account  block of flats              Mixed   \n",
       "\n",
       "       EMERGENCYSTATE_MODE  \n",
       "0                       No  \n",
       "1                       No  \n",
       "2                      NaN  \n",
       "3                       No  \n",
       "4                       No  \n",
       "...                    ...  \n",
       "246003                  No  \n",
       "246004                  No  \n",
       "246005                  No  \n",
       "246006                 NaN  \n",
       "246007                  No  \n",
       "\n",
       "[246008 rows x 16 columns]"
      ]
     },
     "execution_count": 10,
     "metadata": {},
     "output_type": "execute_result"
    }
   ],
   "source": [
    "# dataframe apenas com features numéricas\n",
    "\n",
    "df.select_dtypes(exclude=np.number)"
   ]
  },
  {
   "cell_type": "code",
   "execution_count": 11,
   "id": "e76eec6d",
   "metadata": {},
   "outputs": [
    {
     "data": {
      "text/plain": [
       "SK_ID_CURR                        0\n",
       "TARGET                            0\n",
       "NAME_CONTRACT_TYPE                0\n",
       "CODE_GENDER                       0\n",
       "FLAG_OWN_CAR                      0\n",
       "                              ...  \n",
       "AMT_REQ_CREDIT_BUREAU_DAY     33172\n",
       "AMT_REQ_CREDIT_BUREAU_WEEK    33172\n",
       "AMT_REQ_CREDIT_BUREAU_MON     33172\n",
       "AMT_REQ_CREDIT_BUREAU_QRT     33172\n",
       "AMT_REQ_CREDIT_BUREAU_YEAR    33172\n",
       "Length: 122, dtype: int64"
      ]
     },
     "execution_count": 11,
     "metadata": {},
     "output_type": "execute_result"
    }
   ],
   "source": [
    "# visualizar as colunas com dados nulos\n",
    "\n",
    "df.isna().sum()"
   ]
  },
  {
   "cell_type": "markdown",
   "id": "04b58fad",
   "metadata": {},
   "source": [
    "### Análises inicias"
   ]
  },
  {
   "cell_type": "code",
   "execution_count": 12,
   "id": "2d7aac7f",
   "metadata": {},
   "outputs": [
    {
     "data": {
      "text/plain": [
       "0    226038\n",
       "1     19970\n",
       "Name: TARGET, dtype: int64"
      ]
     },
     "execution_count": 12,
     "metadata": {},
     "output_type": "execute_result"
    }
   ],
   "source": [
    "# consultando a feature TARGET onde 0 = bons pagadores e 1 = maus pagadores\n",
    "\n",
    "df[\"TARGET\"].value_counts()"
   ]
  },
  {
   "cell_type": "code",
   "execution_count": 13,
   "id": "e5a2ef1b",
   "metadata": {},
   "outputs": [
    {
     "data": {
      "text/plain": [
       "0    0.918824\n",
       "1    0.081176\n",
       "Name: TARGET, dtype: float64"
      ]
     },
     "execution_count": 13,
     "metadata": {},
     "output_type": "execute_result"
    }
   ],
   "source": [
    "# utilizando o %\n",
    "\n",
    "df[\"TARGET\"].value_counts(normalize=True)"
   ]
  },
  {
   "cell_type": "code",
   "execution_count": 14,
   "id": "d206d3cd",
   "metadata": {},
   "outputs": [
    {
     "data": {
      "image/png": "[encoded data removed]",
      "text/plain": [
       "<Figure size 1008x576 with 1 Axes>"
      ]
     },
     "metadata": {
      "needs_background": "light"
     },
     "output_type": "display_data"
    }
   ],
   "source": [
    "plt.figure(figsize=(14, 8))\n",
    "ax = sns.countplot(x=df.TARGET)\n",
    "\n",
    "for i in ax.patches:\n",
    "    ax.annotate(i.get_height(),\n",
    "                  (i.get_x() + i.get_width() / 2, i.get_height()),\n",
    "                  ha=\"center\",\n",
    "                  va=\"baseline\",\n",
    "                  fontsize=18,\n",
    "                  color=\"black\",\n",
    "                  xytext=(0, 1),\n",
    "                  textcoords=\"offset points\")\n",
    "    \n",
    "plt.title(\"% de Pagamento dos Empréstimos\", loc=\"left\", fontsize=18)\n",
    "plt.xlabel(\"0 = Bom Pagador ; 1 = Mau Pagador\", fontsize=14);"
   ]
  },
  {
   "cell_type": "markdown",
   "id": "80683dc2",
   "metadata": {},
   "source": [
    "### O Target é formado por 91,89% de bons pagadores"
   ]
  },
  {
   "cell_type": "code",
   "execution_count": 15,
   "id": "7f503055",
   "metadata": {},
   "outputs": [
    {
     "data": {
      "text/plain": [
       "count    246008.0\n",
       "mean         44.0\n",
       "std          12.0\n",
       "min          20.5\n",
       "25%          34.0\n",
       "50%          43.2\n",
       "75%          53.9\n",
       "max          69.1\n",
       "Name: DAYS_BIRTH, dtype: float64"
      ]
     },
     "execution_count": 15,
     "metadata": {},
     "output_type": "execute_result"
    }
   ],
   "source": [
    "# idade dos clientes\n",
    "\n",
    "(df[\"DAYS_BIRTH\"]/-365).describe().apply(lambda x: round(x, 1))"
   ]
  },
  {
   "cell_type": "code",
   "execution_count": 16,
   "id": "ccde31cf",
   "metadata": {},
   "outputs": [
    {
     "data": {
      "image/png": "[encoded data removed]",
      "text/plain": [
       "<Figure size 864x504 with 1 Axes>"
      ]
     },
     "metadata": {
      "needs_background": "light"
     },
     "output_type": "display_data"
    }
   ],
   "source": [
    "fig, ax = plt.subplots(figsize =(12,7))\n",
    "sns.distplot(df[\"DAYS_BIRTH\"]/-365,bins=5,kde=False)\n",
    "plt.xlabel(\"Idade dos Clientes (em anos)\");"
   ]
  },
  {
   "cell_type": "code",
   "execution_count": 17,
   "id": "4f38f56b",
   "metadata": {},
   "outputs": [
    {
     "data": {
      "text/plain": [
       "array(['Cash loans', 'Revolving loans'], dtype=object)"
      ]
     },
     "execution_count": 17,
     "metadata": {},
     "output_type": "execute_result"
    }
   ],
   "source": [
    "# visualizando os tipos de empréstimos\n",
    "\n",
    "df[\"NAME_CONTRACT_TYPE\"].unique()"
   ]
  },
  {
   "cell_type": "code",
   "execution_count": 18,
   "id": "f9b5df9e",
   "metadata": {},
   "outputs": [
    {
     "name": "stdout",
     "output_type": "stream",
     "text": [
      "Tipo de empréstimo: Cash loans\n",
      "\n",
      "0    0.916068\n",
      "1    0.083932\n",
      "Name: TARGET, dtype: float64\n",
      "################################################################################\n",
      "\n",
      "Tipo de empréstimo: Revolving loans\n",
      "\n",
      "0    0.945053\n",
      "1    0.054947\n",
      "Name: TARGET, dtype: float64\n",
      "################################################################################\n",
      "\n"
     ]
    }
   ],
   "source": [
    "# % de empréstimos de cada tipo que tiveram problemas com o pagamento (1)\n",
    "\n",
    "for item in list(df[\"NAME_CONTRACT_TYPE\"].unique()):\n",
    "    print(f\"Tipo de empréstimo: {item}\\n\")\n",
    "    print(df[(df[\"NAME_CONTRACT_TYPE\"] == str(item))][\"TARGET\"].value_counts(normalize=True))\n",
    "    print(\"#\"*80)\n",
    "    print()"
   ]
  },
  {
   "cell_type": "code",
   "execution_count": 19,
   "id": "bbd24f0f",
   "metadata": {},
   "outputs": [
    {
     "data": {
      "text/plain": [
       "array(['Incomplete higher', 'Secondary / secondary special',\n",
       "       'Higher education', 'Lower secondary', 'Academic degree'],\n",
       "      dtype=object)"
      ]
     },
     "execution_count": 19,
     "metadata": {},
     "output_type": "execute_result"
    }
   ],
   "source": [
    "# visualizando os níveis educacionais\n",
    "\n",
    "df[\"NAME_EDUCATION_TYPE\"].unique()"
   ]
  },
  {
   "cell_type": "code",
   "execution_count": 20,
   "id": "b378735d",
   "metadata": {},
   "outputs": [
    {
     "name": "stdout",
     "output_type": "stream",
     "text": [
      "Nível educacional: Incomplete higher\n",
      "\n",
      "0    0.912768\n",
      "1    0.087232\n",
      "Name: TARGET, dtype: float64\n",
      "################################################################################\n",
      "\n",
      "Nível educacional: Secondary / secondary special\n",
      "\n",
      "0    0.910193\n",
      "1    0.089807\n",
      "Name: TARGET, dtype: float64\n",
      "################################################################################\n",
      "\n",
      "Nível educacional: Higher education\n",
      "\n",
      "0    0.9463\n",
      "1    0.0537\n",
      "Name: TARGET, dtype: float64\n",
      "################################################################################\n",
      "\n",
      "Nível educacional: Lower secondary\n",
      "\n",
      "0    0.887816\n",
      "1    0.112184\n",
      "Name: TARGET, dtype: float64\n",
      "################################################################################\n",
      "\n",
      "Nível educacional: Academic degree\n",
      "\n",
      "0    0.977444\n",
      "1    0.022556\n",
      "Name: TARGET, dtype: float64\n",
      "################################################################################\n",
      "\n"
     ]
    }
   ],
   "source": [
    "# % de empréstimos por nível educacional que tiveram problemas com o pagamento (1)\n",
    "\n",
    "for item in list(df[\"NAME_EDUCATION_TYPE\"].unique()):\n",
    "    print(f\"Nível educacional: {item}\\n\")\n",
    "    print(df[(df[\"NAME_EDUCATION_TYPE\"] == str(item))][\"TARGET\"].value_counts(normalize=True))\n",
    "    print(\"#\"*80)\n",
    "    print()"
   ]
  },
  {
   "cell_type": "code",
   "execution_count": 21,
   "id": "b18ea174",
   "metadata": {},
   "outputs": [
    {
     "data": {
      "text/plain": [
       "count       246008.0\n",
       "mean        168912.2\n",
       "std         260381.8\n",
       "min          25650.0\n",
       "25%         112500.0\n",
       "50%         148500.0\n",
       "75%         202500.0\n",
       "max      117000000.0\n",
       "Name: AMT_INCOME_TOTAL, dtype: float64"
      ]
     },
     "execution_count": 21,
     "metadata": {},
     "output_type": "execute_result"
    }
   ],
   "source": [
    "# análise das faixas de renda\n",
    "\n",
    "df[\"AMT_INCOME_TOTAL\"].describe().apply(lambda x: round(x, 1))"
   ]
  },
  {
   "cell_type": "code",
   "execution_count": 22,
   "id": "74f6746b",
   "metadata": {},
   "outputs": [
    {
     "data": {
      "text/plain": [
       "175747        25650.0\n",
       "139351        26100.0\n",
       "181585        26100.0\n",
       "4411          26550.0\n",
       "131967        27000.0\n",
       "             ...     \n",
       "139830      6750000.0\n",
       "169895      9000000.0\n",
       "115995     13500000.0\n",
       "35452      18000090.0\n",
       "159421    117000000.0\n",
       "Name: AMT_INCOME_TOTAL, Length: 246008, dtype: float64"
      ]
     },
     "execution_count": 22,
     "metadata": {},
     "output_type": "execute_result"
    }
   ],
   "source": [
    "# é possível verificar a presença de outliers, algumas rendas muito acima das demais\n",
    "\n",
    "df[\"AMT_INCOME_TOTAL\"].sort_values()"
   ]
  },
  {
   "cell_type": "code",
   "execution_count": 23,
   "id": "53b1f289",
   "metadata": {},
   "outputs": [
    {
     "data": {
      "text/plain": [
       "0          (50000, 150000]\n",
       "1          (50000, 150000]\n",
       "2         (150000, 250000]\n",
       "3         (250000, 500000]\n",
       "4          (50000, 150000]\n",
       "                ...       \n",
       "246003    (250000, 500000]\n",
       "246004    (150000, 250000]\n",
       "246005     (50000, 150000]\n",
       "246006    (150000, 250000]\n",
       "246007     (50000, 150000]\n",
       "Name: INCOME_RANGE, Length: 246008, dtype: category\n",
       "Categories (6, interval[int64, right]): [(10000, 50000] < (50000, 150000] < (150000, 250000] < (250000, 500000] < (500000, 1000000] < (1000000, 117000000]]"
      ]
     },
     "execution_count": 23,
     "metadata": {},
     "output_type": "execute_result"
    }
   ],
   "source": [
    "# divisão das rendas em \"faixas de rendas\" com os valores determinados nas análises de mínimo,\n",
    "# máximo e concentrações por quartis\n",
    "\n",
    "bins = [10000, 50000, 150000, 250000, 500000, 1000000, 117000000]\n",
    "df[\"INCOME_RANGE\"] = pd.cut(df[\"AMT_INCOME_TOTAL\"], bins = bins)\n",
    "\n",
    "df[\"INCOME_RANGE\"]"
   ]
  },
  {
   "cell_type": "code",
   "execution_count": 24,
   "id": "336c67de",
   "metadata": {},
   "outputs": [
    {
     "name": "stdout",
     "output_type": "stream",
     "text": [
      "Faixa de renda: (50000, 150000]\n",
      "\n",
      "0    0.914814\n",
      "1    0.085186\n",
      "Name: TARGET, dtype: float64\n",
      "################################################################################\n",
      "\n",
      "Faixa de renda: (150000, 250000]\n",
      "\n",
      "0    0.918226\n",
      "1    0.081774\n",
      "Name: TARGET, dtype: float64\n",
      "################################################################################\n",
      "\n",
      "Faixa de renda: (250000, 500000]\n",
      "\n",
      "0    0.934398\n",
      "1    0.065602\n",
      "Name: TARGET, dtype: float64\n",
      "################################################################################\n",
      "\n",
      "Faixa de renda: (10000, 50000]\n",
      "\n",
      "0    0.924263\n",
      "1    0.075737\n",
      "Name: TARGET, dtype: float64\n",
      "################################################################################\n",
      "\n",
      "Faixa de renda: (500000, 1000000]\n",
      "\n",
      "0    0.943878\n",
      "1    0.056122\n",
      "Name: TARGET, dtype: float64\n",
      "################################################################################\n",
      "\n",
      "Faixa de renda: (1000000, 117000000]\n",
      "\n",
      "0    0.95\n",
      "1    0.05\n",
      "Name: TARGET, dtype: float64\n",
      "################################################################################\n",
      "\n"
     ]
    }
   ],
   "source": [
    "# % de empréstimos por faixa de renda que tiveram problemas com o pagamento (1)\n",
    "\n",
    "for item in list(df[\"INCOME_RANGE\"].unique()):\n",
    "    print(f\"Faixa de renda: {item}\\n\")\n",
    "    print(df[(df[\"INCOME_RANGE\"] == item)][\"TARGET\"].value_counts(normalize=True))\n",
    "    print(\"#\"*80)\n",
    "    print()"
   ]
  },
  {
   "cell_type": "code",
   "execution_count": 25,
   "id": "e476c77a",
   "metadata": {},
   "outputs": [
    {
     "data": {
      "text/plain": [
       "array(['Core staff', 'High skill tech staff', 'Managers', nan, 'Laborers',\n",
       "       'Drivers', 'Sales staff', 'Cleaning staff', 'Cooking staff',\n",
       "       'Accountants', 'Low-skill Laborers', 'Security staff',\n",
       "       'Realty agents', 'Private service staff', 'Medicine staff',\n",
       "       'Secretaries', 'HR staff', 'Waiters/barmen staff', 'IT staff'],\n",
       "      dtype=object)"
      ]
     },
     "execution_count": 25,
     "metadata": {},
     "output_type": "execute_result"
    }
   ],
   "source": [
    "# verificação das ocupações\n",
    "\n",
    "df[\"OCCUPATION_TYPE\"].unique()"
   ]
  },
  {
   "cell_type": "code",
   "execution_count": 26,
   "id": "49e32d43",
   "metadata": {},
   "outputs": [
    {
     "name": "stdout",
     "output_type": "stream",
     "text": [
      "Ocupação: Core staff\n",
      "\n",
      "0    0.936345\n",
      "1    0.063655\n",
      "Name: TARGET, dtype: float64\n",
      "################################################################################\n",
      "\n",
      "Ocupação: High skill tech staff\n",
      "\n",
      "0    0.939813\n",
      "1    0.060187\n",
      "Name: TARGET, dtype: float64\n",
      "################################################################################\n",
      "\n",
      "Ocupação: Managers\n",
      "\n",
      "0    0.937768\n",
      "1    0.062232\n",
      "Name: TARGET, dtype: float64\n",
      "################################################################################\n",
      "\n",
      "Ocupação: nan\n",
      "\n",
      "Series([], Name: TARGET, dtype: float64)\n",
      "################################################################################\n",
      "\n",
      "Ocupação: Laborers\n",
      "\n",
      "0    0.893645\n",
      "1    0.106355\n",
      "Name: TARGET, dtype: float64\n",
      "################################################################################\n",
      "\n",
      "Ocupação: Drivers\n",
      "\n",
      "0    0.886195\n",
      "1    0.113805\n",
      "Name: TARGET, dtype: float64\n",
      "################################################################################\n",
      "\n",
      "Ocupação: Sales staff\n",
      "\n",
      "0    0.903192\n",
      "1    0.096808\n",
      "Name: TARGET, dtype: float64\n",
      "################################################################################\n",
      "\n",
      "Ocupação: Cleaning staff\n",
      "\n",
      "0    0.902913\n",
      "1    0.097087\n",
      "Name: TARGET, dtype: float64\n",
      "################################################################################\n",
      "\n",
      "Ocupação: Cooking staff\n",
      "\n",
      "0    0.895617\n",
      "1    0.104383\n",
      "Name: TARGET, dtype: float64\n",
      "################################################################################\n",
      "\n",
      "Ocupação: Accountants\n",
      "\n",
      "0    0.951525\n",
      "1    0.048475\n",
      "Name: TARGET, dtype: float64\n",
      "################################################################################\n",
      "\n",
      "Ocupação: Low-skill Laborers\n",
      "\n",
      "0    0.825677\n",
      "1    0.174323\n",
      "Name: TARGET, dtype: float64\n",
      "################################################################################\n",
      "\n",
      "Ocupação: Security staff\n",
      "\n",
      "0    0.894992\n",
      "1    0.105008\n",
      "Name: TARGET, dtype: float64\n",
      "################################################################################\n",
      "\n",
      "Ocupação: Realty agents\n",
      "\n",
      "0    0.919094\n",
      "1    0.080906\n",
      "Name: TARGET, dtype: float64\n",
      "################################################################################\n",
      "\n",
      "Ocupação: Private service staff\n",
      "\n",
      "0    0.933082\n",
      "1    0.066918\n",
      "Name: TARGET, dtype: float64\n",
      "################################################################################\n",
      "\n",
      "Ocupação: Medicine staff\n",
      "\n",
      "0    0.932141\n",
      "1    0.067859\n",
      "Name: TARGET, dtype: float64\n",
      "################################################################################\n",
      "\n",
      "Ocupação: Secretaries\n",
      "\n",
      "0    0.926806\n",
      "1    0.073194\n",
      "Name: TARGET, dtype: float64\n",
      "################################################################################\n",
      "\n",
      "Ocupação: HR staff\n",
      "\n",
      "0    0.936652\n",
      "1    0.063348\n",
      "Name: TARGET, dtype: float64\n",
      "################################################################################\n",
      "\n",
      "Ocupação: Waiters/barmen staff\n",
      "\n",
      "0    0.884686\n",
      "1    0.115314\n",
      "Name: TARGET, dtype: float64\n",
      "################################################################################\n",
      "\n",
      "Ocupação: IT staff\n",
      "\n",
      "0    0.933333\n",
      "1    0.066667\n",
      "Name: TARGET, dtype: float64\n",
      "################################################################################\n",
      "\n"
     ]
    }
   ],
   "source": [
    "# % de empréstimos por Ocupação que tiveram problemas com o pagamento (1).\n",
    "\n",
    "for item in list(df[\"OCCUPATION_TYPE\"].unique()):\n",
    "    print(f\"Ocupação: {item}\\n\")\n",
    "    print(df[(df[\"OCCUPATION_TYPE\"] == item)][\"TARGET\"].value_counts(normalize=True))\n",
    "    print(\"#\"*80)\n",
    "    print()"
   ]
  },
  {
   "cell_type": "markdown",
   "id": "5a7981c3",
   "metadata": {},
   "source": [
    "### Modelo Baseline Inicial\n",
    "\n",
    "- Descartar NaNs, dados nulos e categóricos\n",
    "- Treinar classificadores simples"
   ]
  },
  {
   "cell_type": "code",
   "execution_count": 27,
   "id": "b1529867",
   "metadata": {},
   "outputs": [],
   "source": [
    "df_model_baseline = df.select_dtypes(include=np.number).dropna(axis=1)\n",
    "\n",
    "X = df_model_baseline.drop(columns=\"TARGET\")\n",
    "y = df_model_baseline[\"TARGET\"]\n",
    "\n",
    "X_train, X_test, y_train, y_test = train_test_split(X, y, test_size=0.33, random_state=42, stratify = y)\n",
    "\n",
    "dados_split = (X_train, X_test, y_train, y_test)"
   ]
  },
  {
   "cell_type": "markdown",
   "id": "10b1ec1e",
   "metadata": {},
   "source": [
    "### Regressão Linear"
   ]
  },
  {
   "cell_type": "code",
   "execution_count": 28,
   "id": "2ba77df1",
   "metadata": {},
   "outputs": [
    {
     "name": "stdout",
     "output_type": "stream",
     "text": [
      "Coeficientes:\n",
      " [[-9.40242412e-07 -3.21427807e-08 -1.51939195e-06 -1.85682186e-07\n",
      "  -1.28290114e-09  9.18758432e-05  6.47179998e-07  2.80697126e-05\n",
      "   9.89810991e-05 -2.56450180e-08 -2.51505801e-08  2.75056123e-09\n",
      "  -2.55032823e-08 -2.37019183e-08 -5.64570159e-09  6.66125954e-10\n",
      "   1.90289435e-09 -5.09622790e-07 -3.42561217e-10 -1.50202693e-10\n",
      "  -1.88328002e-10  1.05771690e-08  1.45273203e-08  8.64902451e-09\n",
      "   7.56747546e-11  1.86906039e-08 -6.69008638e-11 -8.62467326e-10\n",
      "   2.61730515e-09 -4.83641697e-11 -8.38346733e-09 -4.36028883e-10\n",
      "  -1.70443403e-11 -1.43077145e-09  0.00000000e+00 -1.50548108e-09\n",
      "  -1.13427404e-09 -4.50320017e-10 -2.84353682e-09 -1.04596105e-10\n",
      "  -2.80723336e-09 -1.87850195e-10 -1.15293614e-11 -7.95019417e-11]]\n",
      "\n",
      "Intercept: [-2.56548168e-08]\n",
      "\n",
      "Classes: [0 1]\n"
     ]
    },
    {
     "data": {
      "image/png": "[encoded data removed]",
      "text/plain": [
       "<Figure size 432x288 with 1 Axes>"
      ]
     },
     "metadata": {
      "needs_background": "light"
     },
     "output_type": "display_data"
    },
    {
     "data": {
      "image/png": "[encoded data removed]",
      "text/plain": [
       "<Figure size 432x288 with 1 Axes>"
      ]
     },
     "metadata": {
      "needs_background": "light"
     },
     "output_type": "display_data"
    },
    {
     "name": "stdout",
     "output_type": "stream",
     "text": [
      "\n",
      "ROC AUC SCORE: 0.5913686995043024\n"
     ]
    }
   ],
   "source": [
    "lr_baseline = LogisticRegression().fit(X_train, y_train)\n",
    "\n",
    "metrica_classificacao(lr_baseline, *dados_split)"
   ]
  },
  {
   "cell_type": "code",
   "execution_count": 29,
   "id": "0b09cc35",
   "metadata": {},
   "outputs": [],
   "source": [
    "# salvando o Modelo de Linear Regression\n",
    "\n",
    "with open(\"lr_baseline.pkl\", \"wb\") as f:\n",
    "    \n",
    "    pickle.dump(lr_baseline, f)"
   ]
  },
  {
   "cell_type": "code",
   "execution_count": 30,
   "id": "797df63a",
   "metadata": {},
   "outputs": [],
   "source": [
    "with open(\"lr_baseline.pkl\", \"rb\") as f:\n",
    "    \n",
    "    model_lr_baseline = pickle.load(f)"
   ]
  },
  {
   "cell_type": "code",
   "execution_count": 31,
   "id": "d3b97daa",
   "metadata": {},
   "outputs": [
    {
     "data": {
      "text/plain": [
       "LogisticRegression()"
      ]
     },
     "execution_count": 31,
     "metadata": {},
     "output_type": "execute_result"
    }
   ],
   "source": [
    "model_lr_baseline"
   ]
  },
  {
   "cell_type": "markdown",
   "id": "b3f42d0b",
   "metadata": {},
   "source": [
    "### Gradient Boosting e Random Forest"
   ]
  },
  {
   "cell_type": "code",
   "execution_count": 48,
   "id": "aade9828",
   "metadata": {},
   "outputs": [],
   "source": [
    "# Pré-processamento das Features\n",
    "\n",
    "X_train, X_test, y_train, y_test, pre_processador = pipe_pre_process(df)"
   ]
  },
  {
   "cell_type": "code",
   "execution_count": 49,
   "id": "361b2a70",
   "metadata": {},
   "outputs": [
    {
     "name": "stdout",
     "output_type": "stream",
     "text": [
      "\n",
      "\n",
      "\n",
      "==================================================\n",
      "             Pipe: Gradient boosting              \n",
      "==================================================\n",
      "\n",
      "\n",
      "\n",
      "[Pipeline] ... (step 1 of 2) Processing pre_processador, total=   5.7s\n",
      "      Iter       Train Loss   Remaining Time \n",
      "         1           0.5548           12.14m\n",
      "         2           0.5486           12.02m\n",
      "         3           0.5436           11.76m\n",
      "         4           0.5397           11.99m\n",
      "         5           0.5363           11.94m\n",
      "         6           0.5335           11.70m\n",
      "         7           0.5310           11.72m\n",
      "         8           0.5289           11.44m\n",
      "         9           0.5271           11.26m\n",
      "        10           0.5252           11.05m\n",
      "        11           0.5240           10.90m\n",
      "        12           0.5224           10.75m\n",
      "        13           0.5210           10.58m\n",
      "        14           0.5200           10.44m\n",
      "        15           0.5189           10.35m\n",
      "        16           0.5176           10.18m\n",
      "        17           0.5165            9.99m\n",
      "        18           0.5156            9.82m\n",
      "        19           0.5148            9.67m\n",
      "        20           0.5140            9.52m\n",
      "        21           0.5132            9.39m\n",
      "        22           0.5124            9.23m\n",
      "        23           0.5121            9.07m\n",
      "        24           0.5113            8.97m\n",
      "        25           0.5106            8.83m\n",
      "        26           0.5098            8.71m\n",
      "        27           0.5092            8.62m\n",
      "        28           0.5085            8.50m\n",
      "        29           0.5079            8.39m\n",
      "        30           0.5074            8.30m\n",
      "        31           0.5070            8.28m\n",
      "        32           0.5066            8.26m\n",
      "        33           0.5063            8.18m\n",
      "        34           0.5059            8.13m\n",
      "        35           0.5054            8.05m\n",
      "        36           0.5050            7.95m\n",
      "        37           0.5046            7.86m\n",
      "        38           0.5043            7.74m\n",
      "        39           0.5038            7.65m\n",
      "        40           0.5035            7.53m\n",
      "        41           0.5030            7.41m\n",
      "        42           0.5026            7.32m\n",
      "        43           0.5024            7.26m\n",
      "        44           0.5021            7.15m\n",
      "        45           0.5018            7.11m\n",
      "        46           0.5015            6.97m\n",
      "        47           0.5012            6.82m\n",
      "        48           0.5009            6.69m\n",
      "        49           0.5006            6.55m\n",
      "        50           0.5004            6.41m\n",
      "        51           0.5001            6.27m\n",
      "        52           0.4999            6.13m\n",
      "        53           0.4996            5.99m\n",
      "        54           0.4994            5.86m\n",
      "        55           0.4992            5.72m\n",
      "        56           0.4990            5.58m\n",
      "        57           0.4988            5.45m\n",
      "        58           0.4985            5.31m\n",
      "        59           0.4983            5.17m\n",
      "        60           0.4981            5.03m\n",
      "        61           0.4979            4.90m\n",
      "        62           0.4977            4.77m\n",
      "        63           0.4976            4.63m\n",
      "        64           0.4974            4.50m\n",
      "        65           0.4972            4.37m\n",
      "        66           0.4970            4.23m\n",
      "        67           0.4969            4.10m\n",
      "        68           0.4967            3.97m\n",
      "        69           0.4965            3.84m\n",
      "        70           0.4963            3.71m\n",
      "        71           0.4962            3.58m\n",
      "        72           0.4961            3.46m\n",
      "        73           0.4959            3.33m\n",
      "        74           0.4958            3.20m\n",
      "        75           0.4957            3.07m\n",
      "        76           0.4955            2.95m\n",
      "        77           0.4954            2.83m\n",
      "        78           0.4953            2.70m\n",
      "        79           0.4951            2.58m\n",
      "        80           0.4950            2.46m\n",
      "        81           0.4949            2.33m\n",
      "        82           0.4948            2.21m\n",
      "        83           0.4946            2.09m\n",
      "        84           0.4945            1.96m\n",
      "        85           0.4943            1.84m\n",
      "        86           0.4942            1.71m\n",
      "        87           0.4941            1.59m\n",
      "        88           0.4939            1.47m\n",
      "        89           0.4938            1.34m\n",
      "        90           0.4937            1.22m\n",
      "        91           0.4936            1.10m\n",
      "        92           0.4935           58.42s\n",
      "        93           0.4934           51.09s\n",
      "        94           0.4933           43.75s\n",
      "        95           0.4932           36.44s\n",
      "        96           0.4931           29.13s\n",
      "        97           0.4930           21.83s\n",
      "        98           0.4929           14.54s\n",
      "        99           0.4928            7.27s\n",
      "       100           0.4927            0.00s\n",
      "[Pipeline] ................ (step 2 of 2) Processing gb, total=12.1min\n"
     ]
    },
    {
     "data": {
      "image/png": "[encoded data removed]",
      "text/plain": [
       "<Figure size 432x288 with 1 Axes>"
      ]
     },
     "metadata": {
      "needs_background": "light"
     },
     "output_type": "display_data"
    },
    {
     "data": {
      "image/png": "[encoded data removed]",
      "text/plain": [
       "<Figure size 432x288 with 1 Axes>"
      ]
     },
     "metadata": {
      "needs_background": "light"
     },
     "output_type": "display_data"
    },
    {
     "name": "stdout",
     "output_type": "stream",
     "text": [
      "\n",
      "ROC AUC SCORE: 0.7532097119311953\n",
      "\n",
      "\n",
      "\n",
      "==================================================\n",
      "               Pipe: Random forest                \n",
      "==================================================\n",
      "\n",
      "\n",
      "\n",
      "[Pipeline] ... (step 1 of 2) Processing pre_processador, total=   5.0s\n"
     ]
    },
    {
     "name": "stderr",
     "output_type": "stream",
     "text": [
      "[Parallel(n_jobs=1)]: Using backend SequentialBackend with 1 concurrent workers.\n"
     ]
    },
    {
     "name": "stdout",
     "output_type": "stream",
     "text": [
      "building tree 1 of 100\n"
     ]
    },
    {
     "name": "stderr",
     "output_type": "stream",
     "text": [
      "[Parallel(n_jobs=1)]: Done   1 out of   1 | elapsed:    1.4s remaining:    0.0s\n"
     ]
    },
    {
     "name": "stdout",
     "output_type": "stream",
     "text": [
      "building tree 2 of 100\n"
     ]
    },
    {
     "name": "stderr",
     "output_type": "stream",
     "text": [
      "[Parallel(n_jobs=1)]: Done   2 out of   2 | elapsed:    2.9s remaining:    0.0s\n"
     ]
    },
    {
     "name": "stdout",
     "output_type": "stream",
     "text": [
      "building tree 3 of 100\n"
     ]
    },
    {
     "name": "stderr",
     "output_type": "stream",
     "text": [
      "[Parallel(n_jobs=1)]: Done   3 out of   3 | elapsed:    4.6s remaining:    0.0s\n"
     ]
    },
    {
     "name": "stdout",
     "output_type": "stream",
     "text": [
      "building tree 4 of 100\n"
     ]
    },
    {
     "name": "stderr",
     "output_type": "stream",
     "text": [
      "[Parallel(n_jobs=1)]: Done   4 out of   4 | elapsed:    6.2s remaining:    0.0s\n"
     ]
    },
    {
     "name": "stdout",
     "output_type": "stream",
     "text": [
      "building tree 5 of 100\n"
     ]
    },
    {
     "name": "stderr",
     "output_type": "stream",
     "text": [
      "[Parallel(n_jobs=1)]: Done   5 out of   5 | elapsed:    8.1s remaining:    0.0s\n"
     ]
    },
    {
     "name": "stdout",
     "output_type": "stream",
     "text": [
      "building tree 6 of 100\n"
     ]
    },
    {
     "name": "stderr",
     "output_type": "stream",
     "text": [
      "[Parallel(n_jobs=1)]: Done   6 out of   6 | elapsed:    9.8s remaining:    0.0s\n"
     ]
    },
    {
     "name": "stdout",
     "output_type": "stream",
     "text": [
      "building tree 7 of 100\n"
     ]
    },
    {
     "name": "stderr",
     "output_type": "stream",
     "text": [
      "[Parallel(n_jobs=1)]: Done   7 out of   7 | elapsed:   11.9s remaining:    0.0s\n"
     ]
    },
    {
     "name": "stdout",
     "output_type": "stream",
     "text": [
      "building tree 8 of 100\n"
     ]
    },
    {
     "name": "stderr",
     "output_type": "stream",
     "text": [
      "[Parallel(n_jobs=1)]: Done   8 out of   8 | elapsed:   14.0s remaining:    0.0s\n"
     ]
    },
    {
     "name": "stdout",
     "output_type": "stream",
     "text": [
      "building tree 9 of 100\n"
     ]
    },
    {
     "name": "stderr",
     "output_type": "stream",
     "text": [
      "[Parallel(n_jobs=1)]: Done   9 out of   9 | elapsed:   15.8s remaining:    0.0s\n"
     ]
    },
    {
     "name": "stdout",
     "output_type": "stream",
     "text": [
      "building tree 10 of 100\n",
      "building tree 11 of 100\n",
      "building tree 12 of 100\n",
      "building tree 13 of 100\n",
      "building tree 14 of 100\n",
      "building tree 15 of 100\n",
      "building tree 16 of 100\n",
      "building tree 17 of 100\n",
      "building tree 18 of 100\n",
      "building tree 19 of 100\n",
      "building tree 20 of 100\n",
      "building tree 21 of 100\n",
      "building tree 22 of 100\n",
      "building tree 23 of 100\n",
      "building tree 24 of 100\n",
      "building tree 25 of 100\n",
      "building tree 26 of 100\n",
      "building tree 27 of 100\n",
      "building tree 28 of 100\n",
      "building tree 29 of 100\n",
      "building tree 30 of 100\n",
      "building tree 31 of 100\n",
      "building tree 32 of 100\n",
      "building tree 33 of 100\n",
      "building tree 34 of 100\n",
      "building tree 35 of 100\n",
      "building tree 36 of 100\n",
      "building tree 37 of 100\n",
      "building tree 38 of 100\n",
      "building tree 39 of 100\n",
      "building tree 40 of 100\n",
      "building tree 41 of 100\n",
      "building tree 42 of 100\n",
      "building tree 43 of 100\n",
      "building tree 44 of 100\n",
      "building tree 45 of 100\n",
      "building tree 46 of 100\n",
      "building tree 47 of 100\n",
      "building tree 48 of 100\n",
      "building tree 49 of 100\n",
      "building tree 50 of 100\n",
      "building tree 51 of 100\n",
      "building tree 52 of 100\n",
      "building tree 53 of 100\n",
      "building tree 54 of 100\n",
      "building tree 55 of 100\n",
      "building tree 56 of 100\n",
      "building tree 57 of 100\n",
      "building tree 58 of 100\n",
      "building tree 59 of 100\n",
      "building tree 60 of 100\n",
      "building tree 61 of 100\n",
      "building tree 62 of 100\n",
      "building tree 63 of 100\n",
      "building tree 64 of 100\n",
      "building tree 65 of 100\n",
      "building tree 66 of 100\n",
      "building tree 67 of 100\n",
      "building tree 68 of 100\n",
      "building tree 69 of 100\n",
      "building tree 70 of 100\n",
      "building tree 71 of 100\n",
      "building tree 72 of 100\n",
      "building tree 73 of 100\n",
      "building tree 74 of 100\n",
      "building tree 75 of 100\n",
      "building tree 76 of 100\n",
      "building tree 77 of 100\n",
      "building tree 78 of 100\n",
      "building tree 79 of 100\n",
      "building tree 80 of 100\n",
      "building tree 81 of 100\n",
      "building tree 82 of 100\n",
      "building tree 83 of 100\n",
      "building tree 84 of 100\n",
      "building tree 85 of 100\n",
      "building tree 86 of 100\n",
      "building tree 87 of 100\n",
      "building tree 88 of 100\n",
      "building tree 89 of 100\n",
      "building tree 90 of 100\n",
      "building tree 91 of 100\n",
      "building tree 92 of 100\n",
      "building tree 93 of 100\n",
      "building tree 94 of 100\n",
      "building tree 95 of 100\n",
      "building tree 96 of 100\n",
      "building tree 97 of 100\n",
      "building tree 98 of 100\n",
      "building tree 99 of 100\n",
      "building tree 100 of 100\n"
     ]
    },
    {
     "name": "stderr",
     "output_type": "stream",
     "text": [
      "[Parallel(n_jobs=1)]: Done 100 out of 100 | elapsed:  3.1min finished\n"
     ]
    },
    {
     "name": "stdout",
     "output_type": "stream",
     "text": [
      "[Pipeline] ................ (step 2 of 2) Processing rf, total= 3.1min\n"
     ]
    },
    {
     "name": "stderr",
     "output_type": "stream",
     "text": [
      "[Parallel(n_jobs=1)]: Using backend SequentialBackend with 1 concurrent workers.\n",
      "[Parallel(n_jobs=1)]: Done   1 out of   1 | elapsed:    0.0s remaining:    0.0s\n",
      "[Parallel(n_jobs=1)]: Done   2 out of   2 | elapsed:    0.0s remaining:    0.0s\n",
      "[Parallel(n_jobs=1)]: Done   3 out of   3 | elapsed:    0.0s remaining:    0.0s\n",
      "[Parallel(n_jobs=1)]: Done   4 out of   4 | elapsed:    0.0s remaining:    0.0s\n",
      "[Parallel(n_jobs=1)]: Done   5 out of   5 | elapsed:    0.0s remaining:    0.0s\n",
      "[Parallel(n_jobs=1)]: Done   6 out of   6 | elapsed:    0.0s remaining:    0.0s\n",
      "[Parallel(n_jobs=1)]: Done   7 out of   7 | elapsed:    0.1s remaining:    0.0s\n",
      "[Parallel(n_jobs=1)]: Done   8 out of   8 | elapsed:    0.1s remaining:    0.0s\n",
      "[Parallel(n_jobs=1)]: Done   9 out of   9 | elapsed:    0.1s remaining:    0.0s\n",
      "[Parallel(n_jobs=1)]: Done 100 out of 100 | elapsed:    2.4s finished\n"
     ]
    },
    {
     "data": {
      "image/png": "[encoded data removed]",
      "text/plain": [
       "<Figure size 432x288 with 1 Axes>"
      ]
     },
     "metadata": {
      "needs_background": "light"
     },
     "output_type": "display_data"
    },
    {
     "data": {
      "image/png": "[encoded data removed]",
      "text/plain": [
       "<Figure size 432x288 with 1 Axes>"
      ]
     },
     "metadata": {
      "needs_background": "light"
     },
     "output_type": "display_data"
    },
    {
     "name": "stdout",
     "output_type": "stream",
     "text": [
      "\n",
      "ROC AUC SCORE: 0.7129746806770055\n"
     ]
    }
   ],
   "source": [
    "# Pipelines para identificar possíveis melhores estimadores e verificar a performance com os hiperparâmetros default\n",
    "\n",
    "pipe_gb = Pipeline([(\"pre_processador\", pre_processador),\n",
    "                     (\"gb\", GradientBoostingClassifier(random_state=42, verbose = 10))], verbose = 10)\n",
    "\n",
    "pipe_rf = Pipeline([(\"pre_processador\", pre_processador),\n",
    "                     (\"rf\", RandomForestClassifier(random_state=42, verbose = 10))], verbose = 10)\n",
    "\n",
    "# ==================\n",
    "\n",
    "pipes_dict = {\"Gradient boosting\": pipe_gb, \"Random forest\": pipe_rf}\n",
    "\n",
    "for label, pipe in pipes_dict.items():\n",
    "    \n",
    "    print(\"\\n\\n\")\n",
    "    print(\"=\"*50)\n",
    "    print(f\"Pipe: {label}\".center(50))\n",
    "    print(\"=\"*50)\n",
    "    print(\"\\n\\n\")\n",
    "    \n",
    "    pipe.fit(X_train, y_train)\n",
    "\n",
    "    ########################################\n",
    "\n",
    "    dados_split = (X_train, X_test, y_train, y_test)\n",
    "\n",
    "    metrica_classificacao_pipe(pipe, *dados_split)"
   ]
  },
  {
   "cell_type": "code",
   "execution_count": 50,
   "id": "38928bda",
   "metadata": {},
   "outputs": [],
   "source": [
    "# salvando o Modelo de Gradient Boosting\n",
    "\n",
    "with open(\"pipe_gb.pkl\", \"wb\") as f:\n",
    "    \n",
    "    pickle.dump(pipe_gb, f)"
   ]
  },
  {
   "cell_type": "code",
   "execution_count": 51,
   "id": "22153727",
   "metadata": {},
   "outputs": [],
   "source": [
    "with open(\"pipe_gb.pkl\", \"rb\") as f:\n",
    "    \n",
    "    model_pipe_gb = pickle.load(f)"
   ]
  },
  {
   "cell_type": "code",
   "execution_count": 52,
   "id": "2ccef871",
   "metadata": {},
   "outputs": [
    {
     "data": {
      "text/plain": [
       "Pipeline(steps=[('pre_processador',\n",
       "                 ColumnTransformer(transformers=[('transf_num',\n",
       "                                                  Pipeline(steps=[('input_num',\n",
       "                                                                   SimpleImputer()),\n",
       "                                                                  ('std',\n",
       "                                                                   StandardScaler())]),\n",
       "                                                  ['SK_ID_CURR', 'CNT_CHILDREN',\n",
       "                                                   'AMT_INCOME_TOTAL',\n",
       "                                                   'AMT_CREDIT', 'AMT_ANNUITY',\n",
       "                                                   'AMT_GOODS_PRICE',\n",
       "                                                   'REGION_POPULATION_RELATIVE',\n",
       "                                                   'DAYS_BIRTH',\n",
       "                                                   'DAYS_EMPLOYED',\n",
       "                                                   'DAYS_REGISTRATION',\n",
       "                                                   'DAYS_ID_PUBLISH',\n",
       "                                                   'OWN_CA...\n",
       "                                                   'FLAG_OWN_REALTY',\n",
       "                                                   'NAME_TYPE_SUITE',\n",
       "                                                   'NAME_INCOME_TYPE',\n",
       "                                                   'NAME_EDUCATION_TYPE',\n",
       "                                                   'NAME_FAMILY_STATUS',\n",
       "                                                   'NAME_HOUSING_TYPE',\n",
       "                                                   'OCCUPATION_TYPE',\n",
       "                                                   'WEEKDAY_APPR_PROCESS_START',\n",
       "                                                   'ORGANIZATION_TYPE',\n",
       "                                                   'FONDKAPREMONT_MODE',\n",
       "                                                   'HOUSETYPE_MODE',\n",
       "                                                   'WALLSMATERIAL_MODE',\n",
       "                                                   'EMERGENCYSTATE_MODE',\n",
       "                                                   'INCOME_RANGE'])])),\n",
       "                ('gb',\n",
       "                 GradientBoostingClassifier(random_state=42, verbose=10))],\n",
       "         verbose=10)"
      ]
     },
     "execution_count": 52,
     "metadata": {},
     "output_type": "execute_result"
    }
   ],
   "source": [
    "model_pipe_gb"
   ]
  },
  {
   "cell_type": "code",
   "execution_count": 53,
   "id": "d8b9a584",
   "metadata": {},
   "outputs": [],
   "source": [
    "# salvando o Modelo de Random Forest\n",
    "\n",
    "with open(\"pipe_rf.pkl\", \"wb\") as f:\n",
    "    \n",
    "    pickle.dump(pipe_rf, f)"
   ]
  },
  {
   "cell_type": "code",
   "execution_count": 54,
   "id": "caf00db5",
   "metadata": {},
   "outputs": [],
   "source": [
    "with open(\"pipe_rf.pkl\", \"rb\") as f:\n",
    "    \n",
    "    model_pipe_rf = pickle.load(f)"
   ]
  },
  {
   "cell_type": "code",
   "execution_count": 55,
   "id": "19e2e2b3",
   "metadata": {},
   "outputs": [
    {
     "data": {
      "text/plain": [
       "Pipeline(steps=[('pre_processador',\n",
       "                 ColumnTransformer(transformers=[('transf_num',\n",
       "                                                  Pipeline(steps=[('input_num',\n",
       "                                                                   SimpleImputer()),\n",
       "                                                                  ('std',\n",
       "                                                                   StandardScaler())]),\n",
       "                                                  ['SK_ID_CURR', 'CNT_CHILDREN',\n",
       "                                                   'AMT_INCOME_TOTAL',\n",
       "                                                   'AMT_CREDIT', 'AMT_ANNUITY',\n",
       "                                                   'AMT_GOODS_PRICE',\n",
       "                                                   'REGION_POPULATION_RELATIVE',\n",
       "                                                   'DAYS_BIRTH',\n",
       "                                                   'DAYS_EMPLOYED',\n",
       "                                                   'DAYS_REGISTRATION',\n",
       "                                                   'DAYS_ID_PUBLISH',\n",
       "                                                   'OWN_CA...\n",
       "                                                   'FLAG_OWN_REALTY',\n",
       "                                                   'NAME_TYPE_SUITE',\n",
       "                                                   'NAME_INCOME_TYPE',\n",
       "                                                   'NAME_EDUCATION_TYPE',\n",
       "                                                   'NAME_FAMILY_STATUS',\n",
       "                                                   'NAME_HOUSING_TYPE',\n",
       "                                                   'OCCUPATION_TYPE',\n",
       "                                                   'WEEKDAY_APPR_PROCESS_START',\n",
       "                                                   'ORGANIZATION_TYPE',\n",
       "                                                   'FONDKAPREMONT_MODE',\n",
       "                                                   'HOUSETYPE_MODE',\n",
       "                                                   'WALLSMATERIAL_MODE',\n",
       "                                                   'EMERGENCYSTATE_MODE',\n",
       "                                                   'INCOME_RANGE'])])),\n",
       "                ('rf', RandomForestClassifier(random_state=42, verbose=10))],\n",
       "         verbose=10)"
      ]
     },
     "execution_count": 55,
     "metadata": {},
     "output_type": "execute_result"
    }
   ],
   "source": [
    "model_pipe_rf"
   ]
  },
  {
   "cell_type": "markdown",
   "id": "2a17a8fc",
   "metadata": {},
   "source": [
    "### Otimização Bayesiana"
   ]
  },
  {
   "cell_type": "code",
   "execution_count": 36,
   "id": "514ed300",
   "metadata": {},
   "outputs": [],
   "source": [
    "def pipe_pre_home_credit(drop_not_features=[\"TARGET\"], col_target=\"TARGET\",\n",
    "                             inputer_num_strategy=\"mean\",\n",
    "                             encoding=\"ordinal\"):\n",
    "    '''\n",
    "    - inputer_num_strategy (str): \"mean\", \"median\";\n",
    "    - encoding (str): \"onehot\" para OneHotEncoder; \"ordinal\" OrdinalEncoder;\n",
    "    '''\n",
    "    \n",
    "    X = df.drop(columns=drop_not_features)\n",
    "    y = df[col_target]\n",
    "    \n",
    "    X_train, X_test, y_train, y_test = train_test_split(X, y, test_size=0.1, random_state=42, stratify=y)\n",
    "\n",
    "    # ==========================================================\n",
    "\n",
    "    pipe_features_num = Pipeline([(\"input_num\", SimpleImputer(strategy=inputer_num_strategy)),\n",
    "                                  (\"std\", StandardScaler())])\n",
    "\n",
    "    features_num = X_train.select_dtypes(include=np.number).columns.tolist()\n",
    "\n",
    "    # ==========================================================\n",
    "\n",
    "    if encoding == \"onehot\":\n",
    "    \n",
    "        pipe_features_cat = Pipeline([(\"input_cat\", SimpleImputer(strategy=\"constant\", fill_value=\"unknown\")),\n",
    "                                      (\"onehot\", OneHotEncoder(handle_unknown=\"ignore\"))])\n",
    "        \n",
    "    elif encoding == \"ordinal\":\n",
    "        \n",
    "        pipe_features_cat = Pipeline([(\"input_cat\", SimpleImputer(strategy=\"constant\", fill_value=\"unknown\")),\n",
    "                                      (\"ordinal\", OrdinalEncoder(handle_unknown=\"use_encoded_value\",\n",
    "                                                                 unknown_value=-1))])\n",
    "    \n",
    "    else:\n",
    "        \n",
    "        raise ValueError(\"Únicos encodings disponíveis são 'ordinal' e 'onehot'\")\n",
    "        \n",
    "        \n",
    "    features_cat = X_train.select_dtypes(exclude=np.number).columns.tolist()\n",
    "\n",
    "    # ==========================================================\n",
    "\n",
    "    pre_processador = ColumnTransformer([(\"transf_num\", pipe_features_num, features_num),\n",
    "                                         (\"transf_cat\", pipe_features_cat, features_cat)])\n",
    "\n",
    "    return X_train, X_test, y_train, y_test, pre_processador"
   ]
  },
  {
   "cell_type": "code",
   "execution_count": 37,
   "id": "031ff199",
   "metadata": {},
   "outputs": [],
   "source": [
    "# construindo um modelo com os hiperparâmetros default\n",
    "\n",
    "X_train, X_test, y_train, y_test, pre_processador = pipe_pre_home_credit(drop_not_features=[\"TARGET\"], \n",
    "                                                                            col_target=\"TARGET\",\n",
    "                                                                            inputer_num_strategy=\"mean\",\n",
    "                                                                            encoding=\"ordinal\")"
   ]
  },
  {
   "cell_type": "code",
   "execution_count": 38,
   "id": "43952d6d",
   "metadata": {},
   "outputs": [
    {
     "data": {
      "text/plain": [
       "ColumnTransformer(transformers=[('transf_num',\n",
       "                                 Pipeline(steps=[('input_num', SimpleImputer()),\n",
       "                                                 ('std', StandardScaler())]),\n",
       "                                 ['SK_ID_CURR', 'CNT_CHILDREN',\n",
       "                                  'AMT_INCOME_TOTAL', 'AMT_CREDIT',\n",
       "                                  'AMT_ANNUITY', 'AMT_GOODS_PRICE',\n",
       "                                  'REGION_POPULATION_RELATIVE', 'DAYS_BIRTH',\n",
       "                                  'DAYS_EMPLOYED', 'DAYS_REGISTRATION',\n",
       "                                  'DAYS_ID_PUBLISH', 'OWN_CAR_AGE',\n",
       "                                  'FLAG_MOBIL', 'FLAG_EMP_PHONE...\n",
       "                                                                 unknown_value=-1))]),\n",
       "                                 ['NAME_CONTRACT_TYPE', 'CODE_GENDER',\n",
       "                                  'FLAG_OWN_CAR', 'FLAG_OWN_REALTY',\n",
       "                                  'NAME_TYPE_SUITE', 'NAME_INCOME_TYPE',\n",
       "                                  'NAME_EDUCATION_TYPE', 'NAME_FAMILY_STATUS',\n",
       "                                  'NAME_HOUSING_TYPE', 'OCCUPATION_TYPE',\n",
       "                                  'WEEKDAY_APPR_PROCESS_START',\n",
       "                                  'ORGANIZATION_TYPE', 'FONDKAPREMONT_MODE',\n",
       "                                  'HOUSETYPE_MODE', 'WALLSMATERIAL_MODE',\n",
       "                                  'EMERGENCYSTATE_MODE', 'INCOME_RANGE'])])"
      ]
     },
     "execution_count": 38,
     "metadata": {},
     "output_type": "execute_result"
    }
   ],
   "source": [
    "pre_processador"
   ]
  },
  {
   "cell_type": "code",
   "execution_count": 60,
   "id": "7f7bd350",
   "metadata": {},
   "outputs": [
    {
     "data": {
      "image/png": "[encoded data removed]",
      "text/plain": [
       "<Figure size 432x288 with 1 Axes>"
      ]
     },
     "metadata": {
      "needs_background": "light"
     },
     "output_type": "display_data"
    },
    {
     "data": {
      "image/png": "[encoded data removed]",
      "text/plain": [
       "<Figure size 432x288 with 1 Axes>"
      ]
     },
     "metadata": {
      "needs_background": "light"
     },
     "output_type": "display_data"
    },
    {
     "name": "stdout",
     "output_type": "stream",
     "text": [
      "\n",
      "ROC AUC SCORE: 0.757140956634917\n"
     ]
    }
   ],
   "source": [
    "pipe_ob = Pipeline([(\"pp\", pre_processador),\n",
    "                 (\"gb\", GradientBoostingClassifier(random_state=42))])\n",
    "\n",
    "pipe_ob.fit(X_train, y_train)\n",
    "\n",
    "metrica_classificacao_pipe(pipe_ob, *dados_split)"
   ]
  },
  {
   "cell_type": "code",
   "execution_count": 68,
   "id": "1399da47",
   "metadata": {},
   "outputs": [],
   "source": [
    "# salvando o Modelo de Otimozação Bayesiana com os hiperparâmetros default\n",
    "\n",
    "with open(\"pipe_ob.pkl\", \"wb\") as f:\n",
    "    \n",
    "    pickle.dump(pipe_ob, f)"
   ]
  },
  {
   "cell_type": "code",
   "execution_count": 69,
   "id": "28f2acec",
   "metadata": {},
   "outputs": [],
   "source": [
    "with open(\"pipe_ob.pkl\", \"rb\") as f:\n",
    "    \n",
    "    model_ob = pickle.load(f)"
   ]
  },
  {
   "cell_type": "code",
   "execution_count": 70,
   "id": "f3f8a040",
   "metadata": {},
   "outputs": [
    {
     "data": {
      "text/plain": [
       "Pipeline(steps=[('pp',\n",
       "                 ColumnTransformer(transformers=[('transf_num',\n",
       "                                                  Pipeline(steps=[('input_num',\n",
       "                                                                   SimpleImputer()),\n",
       "                                                                  ('std',\n",
       "                                                                   StandardScaler())]),\n",
       "                                                  ['SK_ID_CURR', 'CNT_CHILDREN',\n",
       "                                                   'AMT_INCOME_TOTAL',\n",
       "                                                   'AMT_CREDIT', 'AMT_ANNUITY',\n",
       "                                                   'AMT_GOODS_PRICE',\n",
       "                                                   'REGION_POPULATION_RELATIVE',\n",
       "                                                   'DAYS_BIRTH',\n",
       "                                                   'DAYS_EMPLOYED',\n",
       "                                                   'DAYS_REGISTRATION',\n",
       "                                                   'DAYS_ID_PUBLISH',\n",
       "                                                   'OWN_CAR_AGE', 'FLAG_...\n",
       "                                                   'FLAG_OWN_CAR',\n",
       "                                                   'FLAG_OWN_REALTY',\n",
       "                                                   'NAME_TYPE_SUITE',\n",
       "                                                   'NAME_INCOME_TYPE',\n",
       "                                                   'NAME_EDUCATION_TYPE',\n",
       "                                                   'NAME_FAMILY_STATUS',\n",
       "                                                   'NAME_HOUSING_TYPE',\n",
       "                                                   'OCCUPATION_TYPE',\n",
       "                                                   'WEEKDAY_APPR_PROCESS_START',\n",
       "                                                   'ORGANIZATION_TYPE',\n",
       "                                                   'FONDKAPREMONT_MODE',\n",
       "                                                   'HOUSETYPE_MODE',\n",
       "                                                   'WALLSMATERIAL_MODE',\n",
       "                                                   'EMERGENCYSTATE_MODE',\n",
       "                                                   'INCOME_RANGE'])])),\n",
       "                ('gb', GradientBoostingClassifier(random_state=42))])"
      ]
     },
     "execution_count": 70,
     "metadata": {},
     "output_type": "execute_result"
    }
   ],
   "source": [
    "model_ob"
   ]
  },
  {
   "cell_type": "code",
   "execution_count": 55,
   "id": "a968db3a",
   "metadata": {},
   "outputs": [
    {
     "name": "stdout",
     "output_type": "stream",
     "text": [
      "Fitting 5 folds for each of 20 candidates, totalling 100 fits\n"
     ]
    },
    {
     "data": {
      "text/plain": [
       "GridSearchCV(cv=StratifiedKFold(n_splits=5, random_state=42, shuffle=True),\n",
       "             estimator=Pipeline(steps=[('pp',\n",
       "                                        ColumnTransformer(transformers=[('transf_num',\n",
       "                                                                         Pipeline(steps=[('input_num',\n",
       "                                                                                          SimpleImputer()),\n",
       "                                                                                         ('std',\n",
       "                                                                                          StandardScaler())]),\n",
       "                                                                         ['SK_ID_CURR',\n",
       "                                                                          'CNT_CHILDREN',\n",
       "                                                                          'AMT_INCOME_TOTAL',\n",
       "                                                                          'AMT_CREDIT',\n",
       "                                                                          'AMT_ANNUITY',\n",
       "                                                                          'AMT_GOODS_PRICE',\n",
       "                                                                          'REGION_POPULATION_RELATIVE',\n",
       "                                                                          'DAY...\n",
       "                                                                          'WEEKDAY_APPR_PROCESS_START',\n",
       "                                                                          'ORGANIZATION_TYPE',\n",
       "                                                                          'FONDKAPREMONT_MODE',\n",
       "                                                                          'HOUSETYPE_MODE',\n",
       "                                                                          'WALLSMATERIAL_MODE',\n",
       "                                                                          'EMERGENCYSTATE_MODE',\n",
       "                                                                          'INCOME_RANGE'])])),\n",
       "                                       ('gb',\n",
       "                                        GradientBoostingClassifier(random_state=42))]),\n",
       "             n_jobs=-1,\n",
       "             param_grid={'gb__loss': ['deviance', 'exponential'],\n",
       "                         'gb__max_depth': [1, 2],\n",
       "                         'gb__n_estimators': array([100, 200, 300, 400, 500])},\n",
       "             scoring='roc_auc', verbose=10)"
      ]
     },
     "execution_count": 55,
     "metadata": {},
     "output_type": "execute_result"
    }
   ],
   "source": [
    "# tentativa de melhorar utilizando o Grid Search Gradient Boosting\n",
    "\n",
    "pipe = Pipeline([(\"pp\", pre_processador),\n",
    "                 (\"gb\", GradientBoostingClassifier(random_state=42))])\n",
    "\n",
    "params_grid = {\"gb__loss\" : [\"deviance\", \"exponential\"],\n",
    "               \"gb__n_estimators\" : np.arange(1, 6)*100,\n",
    "               \"gb__max_depth\" : [1, 2]}\n",
    "\n",
    "splitter = StratifiedKFold(n_splits=5, random_state=42, shuffle=True)\n",
    "\n",
    "grid_gb = GridSearchCV(pipe,\n",
    "                       params_grid, \n",
    "                       cv=splitter,\n",
    "                       scoring=\"roc_auc\",\n",
    "                       verbose=10,\n",
    "                       n_jobs=-1)\n",
    "\n",
    "grid_gb.fit(X_train, y_train)"
   ]
  },
  {
   "cell_type": "code",
   "execution_count": 57,
   "id": "de3b9895",
   "metadata": {},
   "outputs": [
    {
     "data": {
      "text/plain": [
       "{'gb__loss': 'deviance', 'gb__max_depth': 2, 'gb__n_estimators': 500}"
      ]
     },
     "execution_count": 57,
     "metadata": {},
     "output_type": "execute_result"
    }
   ],
   "source": [
    "grid_gb.best_params_"
   ]
  },
  {
   "cell_type": "code",
   "execution_count": 58,
   "id": "03f912c3",
   "metadata": {},
   "outputs": [
    {
     "data": {
      "image/png": "[encoded data removed]",
      "text/plain": [
       "<Figure size 432x288 with 1 Axes>"
      ]
     },
     "metadata": {
      "needs_background": "light"
     },
     "output_type": "display_data"
    },
    {
     "data": {
      "image/png": "[encoded data removed]",
      "text/plain": [
       "<Figure size 432x288 with 1 Axes>"
      ]
     },
     "metadata": {
      "needs_background": "light"
     },
     "output_type": "display_data"
    },
    {
     "name": "stdout",
     "output_type": "stream",
     "text": [
      "\n",
      "ROC AUC SCORE: 0.7636026571267271\n"
     ]
    }
   ],
   "source": [
    "# melhor resultado, com o Grid Search Gradient Boosting\n",
    "\n",
    "metrica_classificacao_pipe(grid_gb, *dados_split)"
   ]
  },
  {
   "cell_type": "code",
   "execution_count": 131,
   "id": "9e6e9135",
   "metadata": {},
   "outputs": [],
   "source": [
    "# salvando o Modelo de Grid Search Gradient Boosting, melhor resultado obtido\n",
    "\n",
    "with open(\"grid_gb.pkl\", \"wb\") as f:\n",
    "    \n",
    "    pickle.dump(grid_gb, f)"
   ]
  },
  {
   "cell_type": "code",
   "execution_count": 132,
   "id": "8de52b08",
   "metadata": {},
   "outputs": [],
   "source": [
    "with open(\"grid_gb.pkl\", \"rb\") as f:\n",
    "    \n",
    "    model_grid_gb = pickle.load(f)"
   ]
  },
  {
   "cell_type": "code",
   "execution_count": 133,
   "id": "ee7743e4",
   "metadata": {},
   "outputs": [
    {
     "data": {
      "text/plain": [
       "GridSearchCV(cv=StratifiedKFold(n_splits=5, random_state=42, shuffle=True),\n",
       "             estimator=Pipeline(steps=[('pp',\n",
       "                                        ColumnTransformer(transformers=[('transf_num',\n",
       "                                                                         Pipeline(steps=[('input_num',\n",
       "                                                                                          SimpleImputer()),\n",
       "                                                                                         ('std',\n",
       "                                                                                          StandardScaler())]),\n",
       "                                                                         ['SK_ID_CURR',\n",
       "                                                                          'CNT_CHILDREN',\n",
       "                                                                          'AMT_INCOME_TOTAL',\n",
       "                                                                          'AMT_CREDIT',\n",
       "                                                                          'AMT_ANNUITY',\n",
       "                                                                          'AMT_GOODS_PRICE',\n",
       "                                                                          'REGION_POPULATION_RELATIVE',\n",
       "                                                                          'DAY...\n",
       "                                                                          'WEEKDAY_APPR_PROCESS_START',\n",
       "                                                                          'ORGANIZATION_TYPE',\n",
       "                                                                          'FONDKAPREMONT_MODE',\n",
       "                                                                          'HOUSETYPE_MODE',\n",
       "                                                                          'WALLSMATERIAL_MODE',\n",
       "                                                                          'EMERGENCYSTATE_MODE',\n",
       "                                                                          'INCOME_RANGE'])])),\n",
       "                                       ('gb',\n",
       "                                        GradientBoostingClassifier(random_state=42))]),\n",
       "             n_jobs=-1,\n",
       "             param_grid={'gb__loss': ['deviance', 'exponential'],\n",
       "                         'gb__max_depth': [1, 2],\n",
       "                         'gb__n_estimators': array([100, 200, 300, 400, 500])},\n",
       "             scoring='roc_auc', verbose=10)"
      ]
     },
     "execution_count": 133,
     "metadata": {},
     "output_type": "execute_result"
    }
   ],
   "source": [
    "model_grid_gb"
   ]
  },
  {
   "cell_type": "code",
   "execution_count": 39,
   "id": "bdb0f0bc",
   "metadata": {},
   "outputs": [],
   "source": [
    "# tentativa de melhora com a Otimização Bayesiana, definindo o espaço de parâmetros\n",
    "\n",
    "hps_space = {\"loss\" : hp.choice(\"loss\", [\"deviance\", \"exponential\"]),\n",
    "             \"n_estimators\" : hp.choice(\"n_estimators\", range(1, 501)),\n",
    "             \"max_depth\" : hp.choice(\"max_depth\", [1, 2])}"
   ]
  },
  {
   "cell_type": "code",
   "execution_count": 40,
   "id": "21775a1c",
   "metadata": {},
   "outputs": [],
   "source": [
    "# definindo a função objetivo\n",
    "\n",
    "def objective(hps_space):\n",
    "    \n",
    "    pipe = Pipeline([(\"pp\", pre_processador),\n",
    "                     (\"gb\", GradientBoostingClassifier(**hps_space))])\n",
    "\n",
    "    # =============================================\n",
    "\n",
    "    splitter = StratifiedKFold(n_splits=5, random_state=42, shuffle=True)\n",
    "\n",
    "    results = cross_validate(pipe,\n",
    "                             X_train, y_train, \n",
    "                             cv=splitter,\n",
    "                             scoring=\"roc_auc\",\n",
    "                             n_jobs=-1)\n",
    "\n",
    "    mean_roc = results[\"test_score\"].mean()\n",
    "\n",
    "    # como o valor vai ser minimizado, mas queremos MAXIMIZAR o f1, colocamos esse sinal negativo\n",
    "    return -mean_roc"
   ]
  },
  {
   "cell_type": "code",
   "execution_count": 41,
   "id": "cd4a30b3",
   "metadata": {},
   "outputs": [
    {
     "name": "stdout",
     "output_type": "stream",
     "text": [
      "100%|███████████████████████████████████████████| 10/10 [3:01:28<00:00, 1088.84s/trial, best loss: -0.7543678780792901]\n"
     ]
    }
   ],
   "source": [
    "# instanciando a classe Trials()\n",
    "\n",
    "trials = Trials()\n",
    "\n",
    "best_hps = fmin(objective,\n",
    "                space=hps_space,\n",
    "                algo=tpe.suggest,\n",
    "                trials=trials,\n",
    "                rstate=np.random.default_rng(42),\n",
    "                max_evals=10)"
   ]
  },
  {
   "cell_type": "code",
   "execution_count": 42,
   "id": "40e128f3",
   "metadata": {},
   "outputs": [
    {
     "data": {
      "text/plain": [
       "{'loss': 0, 'max_depth': 1, 'n_estimators': 374}"
      ]
     },
     "execution_count": 42,
     "metadata": {},
     "output_type": "execute_result"
    }
   ],
   "source": [
    "# pré-resposta da otimização\n",
    "\n",
    "best_hps"
   ]
  },
  {
   "cell_type": "code",
   "execution_count": 43,
   "id": "23083150",
   "metadata": {},
   "outputs": [],
   "source": [
    "# transformando os hiperparâmetros para o espaço correto\n",
    "# a resposta final, vem com o space_eval\n",
    "\n",
    "best_hps = space_eval(hps_space, best_hps)"
   ]
  },
  {
   "cell_type": "code",
   "execution_count": 44,
   "id": "85ad7833",
   "metadata": {},
   "outputs": [
    {
     "data": {
      "text/plain": [
       "{'loss': 'deviance', 'max_depth': 2, 'n_estimators': 375}"
      ]
     },
     "execution_count": 44,
     "metadata": {},
     "output_type": "execute_result"
    }
   ],
   "source": [
    "best_hps"
   ]
  },
  {
   "cell_type": "code",
   "execution_count": null,
   "id": "63012452",
   "metadata": {},
   "outputs": [],
   "source": [
    "best_hps.best_params_"
   ]
  },
  {
   "cell_type": "code",
   "execution_count": null,
   "id": "26bf1060",
   "metadata": {},
   "outputs": [],
   "source": [
    "GradientBoostingClassifier(**best_hps)"
   ]
  },
  {
   "cell_type": "code",
   "execution_count": null,
   "id": "ef9c4bcc",
   "metadata": {},
   "outputs": [],
   "source": [
    "pipe_hps = Pipeline([(\"pp\", pre_processador),\n",
    "                 (\"gb\", GradientBoostingClassifier(**best_hps))])\n",
    "\n",
    "pipe_hps.fit(X_train, y_train)\n",
    "\n",
    "metrica_classificacao_pipe(pipe_hps, *dados_split)"
   ]
  },
  {
   "cell_type": "code",
   "execution_count": null,
   "id": "8e4cb4bd",
   "metadata": {},
   "outputs": [],
   "source": [
    "# salvando o Modelo de Grid Search Gradient Boosting com definição do espaço de parâmetros\n",
    "\n",
    "with open(\"pipe_hps.pkl\", \"wb\") as f:\n",
    "    \n",
    "    pickle.dump(pipe_hps, f)"
   ]
  },
  {
   "cell_type": "code",
   "execution_count": null,
   "id": "d50b3521",
   "metadata": {},
   "outputs": [],
   "source": [
    "with open(\"pipe_hps.pkl\", \"rb\") as f:\n",
    "    \n",
    "    model_grid_gb_hps = pickle.load(f)"
   ]
  },
  {
   "cell_type": "code",
   "execution_count": null,
   "id": "5d5a6435",
   "metadata": {},
   "outputs": [],
   "source": [
    "model_grid_gb_hps"
   ]
  },
  {
   "cell_type": "markdown",
   "id": "6e8a1a44",
   "metadata": {},
   "source": [
    "## Modelos Treinados"
   ]
  },
  {
   "cell_type": "code",
   "execution_count": null,
   "id": "09390f6c",
   "metadata": {},
   "outputs": [],
   "source": [
    "# Modelo de Regressão Linear\n",
    "\n",
    "model_lr_baseline"
   ]
  },
  {
   "cell_type": "code",
   "execution_count": 65,
   "id": "82d8676c",
   "metadata": {},
   "outputs": [
    {
     "data": {
      "text/plain": [
       "Pipeline(steps=[('pre_processador',\n",
       "                 ColumnTransformer(transformers=[('transf_num',\n",
       "                                                  Pipeline(steps=[('input_num',\n",
       "                                                                   SimpleImputer()),\n",
       "                                                                  ('std',\n",
       "                                                                   StandardScaler())]),\n",
       "                                                  ['SK_ID_CURR', 'CNT_CHILDREN',\n",
       "                                                   'AMT_INCOME_TOTAL',\n",
       "                                                   'AMT_CREDIT', 'AMT_ANNUITY',\n",
       "                                                   'AMT_GOODS_PRICE',\n",
       "                                                   'REGION_POPULATION_RELATIVE',\n",
       "                                                   'DAYS_BIRTH',\n",
       "                                                   'DAYS_EMPLOYED',\n",
       "                                                   'DAYS_REGISTRATION',\n",
       "                                                   'DAYS_ID_PUBLISH',\n",
       "                                                   'OWN_CA...\n",
       "                                                   'FLAG_OWN_REALTY',\n",
       "                                                   'NAME_TYPE_SUITE',\n",
       "                                                   'NAME_INCOME_TYPE',\n",
       "                                                   'NAME_EDUCATION_TYPE',\n",
       "                                                   'NAME_FAMILY_STATUS',\n",
       "                                                   'NAME_HOUSING_TYPE',\n",
       "                                                   'OCCUPATION_TYPE',\n",
       "                                                   'WEEKDAY_APPR_PROCESS_START',\n",
       "                                                   'ORGANIZATION_TYPE',\n",
       "                                                   'FONDKAPREMONT_MODE',\n",
       "                                                   'HOUSETYPE_MODE',\n",
       "                                                   'WALLSMATERIAL_MODE',\n",
       "                                                   'EMERGENCYSTATE_MODE',\n",
       "                                                   'INCOME_RANGE'])])),\n",
       "                ('gb',\n",
       "                 GradientBoostingClassifier(random_state=42, verbose=10))],\n",
       "         verbose=10)"
      ]
     },
     "execution_count": 65,
     "metadata": {},
     "output_type": "execute_result"
    }
   ],
   "source": [
    "# Modelo de Gradient Boosting\n",
    "\n",
    "model_pipe_gb"
   ]
  },
  {
   "cell_type": "code",
   "execution_count": 66,
   "id": "e6484e08",
   "metadata": {},
   "outputs": [
    {
     "data": {
      "text/plain": [
       "Pipeline(steps=[('pre_processador',\n",
       "                 ColumnTransformer(transformers=[('transf_num',\n",
       "                                                  Pipeline(steps=[('input_num',\n",
       "                                                                   SimpleImputer()),\n",
       "                                                                  ('std',\n",
       "                                                                   StandardScaler())]),\n",
       "                                                  ['SK_ID_CURR', 'CNT_CHILDREN',\n",
       "                                                   'AMT_INCOME_TOTAL',\n",
       "                                                   'AMT_CREDIT', 'AMT_ANNUITY',\n",
       "                                                   'AMT_GOODS_PRICE',\n",
       "                                                   'REGION_POPULATION_RELATIVE',\n",
       "                                                   'DAYS_BIRTH',\n",
       "                                                   'DAYS_EMPLOYED',\n",
       "                                                   'DAYS_REGISTRATION',\n",
       "                                                   'DAYS_ID_PUBLISH',\n",
       "                                                   'OWN_CA...\n",
       "                                                   'FLAG_OWN_REALTY',\n",
       "                                                   'NAME_TYPE_SUITE',\n",
       "                                                   'NAME_INCOME_TYPE',\n",
       "                                                   'NAME_EDUCATION_TYPE',\n",
       "                                                   'NAME_FAMILY_STATUS',\n",
       "                                                   'NAME_HOUSING_TYPE',\n",
       "                                                   'OCCUPATION_TYPE',\n",
       "                                                   'WEEKDAY_APPR_PROCESS_START',\n",
       "                                                   'ORGANIZATION_TYPE',\n",
       "                                                   'FONDKAPREMONT_MODE',\n",
       "                                                   'HOUSETYPE_MODE',\n",
       "                                                   'WALLSMATERIAL_MODE',\n",
       "                                                   'EMERGENCYSTATE_MODE',\n",
       "                                                   'INCOME_RANGE'])])),\n",
       "                ('rf', RandomForestClassifier(random_state=42, verbose=10))],\n",
       "         verbose=10)"
      ]
     },
     "execution_count": 66,
     "metadata": {},
     "output_type": "execute_result"
    }
   ],
   "source": [
    "# Modelo de Random Forest\n",
    "\n",
    "model_pipe_rf"
   ]
  },
  {
   "cell_type": "code",
   "execution_count": 67,
   "id": "38d88be0",
   "metadata": {},
   "outputs": [
    {
     "data": {
      "text/plain": [
       "Pipeline(steps=[('pp',\n",
       "                 ColumnTransformer(transformers=[('transf_num',\n",
       "                                                  Pipeline(steps=[('input_num',\n",
       "                                                                   SimpleImputer()),\n",
       "                                                                  ('std',\n",
       "                                                                   StandardScaler())]),\n",
       "                                                  ['SK_ID_CURR', 'CNT_CHILDREN',\n",
       "                                                   'AMT_INCOME_TOTAL',\n",
       "                                                   'AMT_CREDIT', 'AMT_ANNUITY',\n",
       "                                                   'AMT_GOODS_PRICE',\n",
       "                                                   'REGION_POPULATION_RELATIVE',\n",
       "                                                   'DAYS_BIRTH',\n",
       "                                                   'DAYS_EMPLOYED',\n",
       "                                                   'DAYS_REGISTRATION',\n",
       "                                                   'DAYS_ID_PUBLISH',\n",
       "                                                   'OWN_CAR_AGE', 'FLAG_...\n",
       "                                                   'FLAG_OWN_CAR',\n",
       "                                                   'FLAG_OWN_REALTY',\n",
       "                                                   'NAME_TYPE_SUITE',\n",
       "                                                   'NAME_INCOME_TYPE',\n",
       "                                                   'NAME_EDUCATION_TYPE',\n",
       "                                                   'NAME_FAMILY_STATUS',\n",
       "                                                   'NAME_HOUSING_TYPE',\n",
       "                                                   'OCCUPATION_TYPE',\n",
       "                                                   'WEEKDAY_APPR_PROCESS_START',\n",
       "                                                   'ORGANIZATION_TYPE',\n",
       "                                                   'FONDKAPREMONT_MODE',\n",
       "                                                   'HOUSETYPE_MODE',\n",
       "                                                   'WALLSMATERIAL_MODE',\n",
       "                                                   'EMERGENCYSTATE_MODE',\n",
       "                                                   'INCOME_RANGE'])])),\n",
       "                ('gb', GradientBoostingClassifier(random_state=42))])"
      ]
     },
     "execution_count": 67,
     "metadata": {},
     "output_type": "execute_result"
    }
   ],
   "source": [
    "# Modelo de Otimização Bayesiana\n",
    "\n",
    "model_ob"
   ]
  },
  {
   "cell_type": "code",
   "execution_count": 156,
   "id": "aa586919",
   "metadata": {},
   "outputs": [
    {
     "data": {
      "text/plain": [
       "GridSearchCV(cv=StratifiedKFold(n_splits=5, random_state=42, shuffle=True),\n",
       "             estimator=Pipeline(steps=[('pp',\n",
       "                                        ColumnTransformer(transformers=[('transf_num',\n",
       "                                                                         Pipeline(steps=[('input_num',\n",
       "                                                                                          SimpleImputer()),\n",
       "                                                                                         ('std',\n",
       "                                                                                          StandardScaler())]),\n",
       "                                                                         ['SK_ID_CURR',\n",
       "                                                                          'CNT_CHILDREN',\n",
       "                                                                          'AMT_INCOME_TOTAL',\n",
       "                                                                          'AMT_CREDIT',\n",
       "                                                                          'AMT_ANNUITY',\n",
       "                                                                          'AMT_GOODS_PRICE',\n",
       "                                                                          'REGION_POPULATION_RELATIVE',\n",
       "                                                                          'DAY...\n",
       "                                                                          'WEEKDAY_APPR_PROCESS_START',\n",
       "                                                                          'ORGANIZATION_TYPE',\n",
       "                                                                          'FONDKAPREMONT_MODE',\n",
       "                                                                          'HOUSETYPE_MODE',\n",
       "                                                                          'WALLSMATERIAL_MODE',\n",
       "                                                                          'EMERGENCYSTATE_MODE',\n",
       "                                                                          'INCOME_RANGE'])])),\n",
       "                                       ('gb',\n",
       "                                        GradientBoostingClassifier(random_state=42))]),\n",
       "             n_jobs=-1,\n",
       "             param_grid={'gb__loss': ['deviance', 'exponential'],\n",
       "                         'gb__max_depth': [1, 2],\n",
       "                         'gb__n_estimators': array([100, 200, 300, 400, 500])},\n",
       "             scoring='roc_auc', verbose=10)"
      ]
     },
     "execution_count": 156,
     "metadata": {},
     "output_type": "execute_result"
    }
   ],
   "source": [
    "# Modelo de Grid Search Gradient Boosting, melhor resultado obtido\n",
    "\n",
    "model_grid_gb"
   ]
  },
  {
   "cell_type": "code",
   "execution_count": null,
   "id": "5f809034",
   "metadata": {},
   "outputs": [],
   "source": [
    "# Modelo de Grid Search Gradient Boosting com definição o espaço de parâmetros\n",
    "# (trocar o nome da variável pipe, rodar novamente e salvar o modelo com outro nome)\n",
    "\n",
    "model_grid_gb_hps"
   ]
  },
  {
   "cell_type": "markdown",
   "id": "50e68a64",
   "metadata": {},
   "source": [
    "### BASE DE TESTE"
   ]
  },
  {
   "cell_type": "code",
   "execution_count": 161,
   "id": "627ba905",
   "metadata": {},
   "outputs": [],
   "source": [
    "# carregando o dataset de treino\n",
    "\n",
    "df_teste = pd.read_csv(\"./dados/application_test_student.csv\")"
   ]
  },
  {
   "cell_type": "code",
   "execution_count": 162,
   "id": "d67b583c",
   "metadata": {},
   "outputs": [
    {
     "data": {
      "text/html": [
       "<div>\n",
       "<style scoped>\n",
       "    .dataframe tbody tr th:only-of-type {\n",
       "        vertical-align: middle;\n",
       "    }\n",
       "\n",
       "    .dataframe tbody tr th {\n",
       "        vertical-align: top;\n",
       "    }\n",
       "\n",
       "    .dataframe thead th {\n",
       "        text-align: right;\n",
       "    }\n",
       "</style>\n",
       "<table border=\"1\" class=\"dataframe\">\n",
       "  <thead>\n",
       "    <tr style=\"text-align: right;\">\n",
       "      <th></th>\n",
       "      <th>SK_ID_CURR</th>\n",
       "      <th>NAME_CONTRACT_TYPE</th>\n",
       "      <th>CODE_GENDER</th>\n",
       "      <th>FLAG_OWN_CAR</th>\n",
       "      <th>FLAG_OWN_REALTY</th>\n",
       "      <th>CNT_CHILDREN</th>\n",
       "      <th>AMT_INCOME_TOTAL</th>\n",
       "      <th>AMT_CREDIT</th>\n",
       "      <th>AMT_ANNUITY</th>\n",
       "      <th>AMT_GOODS_PRICE</th>\n",
       "      <th>...</th>\n",
       "      <th>FLAG_DOCUMENT_18</th>\n",
       "      <th>FLAG_DOCUMENT_19</th>\n",
       "      <th>FLAG_DOCUMENT_20</th>\n",
       "      <th>FLAG_DOCUMENT_21</th>\n",
       "      <th>AMT_REQ_CREDIT_BUREAU_HOUR</th>\n",
       "      <th>AMT_REQ_CREDIT_BUREAU_DAY</th>\n",
       "      <th>AMT_REQ_CREDIT_BUREAU_WEEK</th>\n",
       "      <th>AMT_REQ_CREDIT_BUREAU_MON</th>\n",
       "      <th>AMT_REQ_CREDIT_BUREAU_QRT</th>\n",
       "      <th>AMT_REQ_CREDIT_BUREAU_YEAR</th>\n",
       "    </tr>\n",
       "  </thead>\n",
       "  <tbody>\n",
       "    <tr>\n",
       "      <th>0</th>\n",
       "      <td>149741</td>\n",
       "      <td>Cash loans</td>\n",
       "      <td>F</td>\n",
       "      <td>N</td>\n",
       "      <td>N</td>\n",
       "      <td>0</td>\n",
       "      <td>117000.0</td>\n",
       "      <td>417024.0</td>\n",
       "      <td>20191.5</td>\n",
       "      <td>360000.0</td>\n",
       "      <td>...</td>\n",
       "      <td>0</td>\n",
       "      <td>0</td>\n",
       "      <td>0</td>\n",
       "      <td>0</td>\n",
       "      <td>0.0</td>\n",
       "      <td>0.0</td>\n",
       "      <td>0.0</td>\n",
       "      <td>0.0</td>\n",
       "      <td>0.0</td>\n",
       "      <td>3.0</td>\n",
       "    </tr>\n",
       "    <tr>\n",
       "      <th>1</th>\n",
       "      <td>363290</td>\n",
       "      <td>Cash loans</td>\n",
       "      <td>M</td>\n",
       "      <td>N</td>\n",
       "      <td>Y</td>\n",
       "      <td>0</td>\n",
       "      <td>450000.0</td>\n",
       "      <td>640080.0</td>\n",
       "      <td>31261.5</td>\n",
       "      <td>450000.0</td>\n",
       "      <td>...</td>\n",
       "      <td>0</td>\n",
       "      <td>0</td>\n",
       "      <td>0</td>\n",
       "      <td>0</td>\n",
       "      <td>0.0</td>\n",
       "      <td>0.0</td>\n",
       "      <td>0.0</td>\n",
       "      <td>0.0</td>\n",
       "      <td>0.0</td>\n",
       "      <td>1.0</td>\n",
       "    </tr>\n",
       "    <tr>\n",
       "      <th>2</th>\n",
       "      <td>436006</td>\n",
       "      <td>Revolving loans</td>\n",
       "      <td>M</td>\n",
       "      <td>Y</td>\n",
       "      <td>Y</td>\n",
       "      <td>0</td>\n",
       "      <td>450000.0</td>\n",
       "      <td>900000.0</td>\n",
       "      <td>45000.0</td>\n",
       "      <td>900000.0</td>\n",
       "      <td>...</td>\n",
       "      <td>0</td>\n",
       "      <td>0</td>\n",
       "      <td>0</td>\n",
       "      <td>0</td>\n",
       "      <td>0.0</td>\n",
       "      <td>0.0</td>\n",
       "      <td>0.0</td>\n",
       "      <td>0.0</td>\n",
       "      <td>2.0</td>\n",
       "      <td>0.0</td>\n",
       "    </tr>\n",
       "    <tr>\n",
       "      <th>3</th>\n",
       "      <td>377703</td>\n",
       "      <td>Cash loans</td>\n",
       "      <td>M</td>\n",
       "      <td>Y</td>\n",
       "      <td>N</td>\n",
       "      <td>1</td>\n",
       "      <td>360000.0</td>\n",
       "      <td>1125000.0</td>\n",
       "      <td>33025.5</td>\n",
       "      <td>1125000.0</td>\n",
       "      <td>...</td>\n",
       "      <td>0</td>\n",
       "      <td>0</td>\n",
       "      <td>0</td>\n",
       "      <td>0</td>\n",
       "      <td>0.0</td>\n",
       "      <td>0.0</td>\n",
       "      <td>0.0</td>\n",
       "      <td>0.0</td>\n",
       "      <td>0.0</td>\n",
       "      <td>1.0</td>\n",
       "    </tr>\n",
       "    <tr>\n",
       "      <th>4</th>\n",
       "      <td>188624</td>\n",
       "      <td>Cash loans</td>\n",
       "      <td>M</td>\n",
       "      <td>Y</td>\n",
       "      <td>Y</td>\n",
       "      <td>0</td>\n",
       "      <td>675000.0</td>\n",
       "      <td>835380.0</td>\n",
       "      <td>42840.0</td>\n",
       "      <td>675000.0</td>\n",
       "      <td>...</td>\n",
       "      <td>0</td>\n",
       "      <td>0</td>\n",
       "      <td>0</td>\n",
       "      <td>0</td>\n",
       "      <td>0.0</td>\n",
       "      <td>0.0</td>\n",
       "      <td>0.0</td>\n",
       "      <td>0.0</td>\n",
       "      <td>0.0</td>\n",
       "      <td>2.0</td>\n",
       "    </tr>\n",
       "  </tbody>\n",
       "</table>\n",
       "<p>5 rows × 121 columns</p>\n",
       "</div>"
      ],
      "text/plain": [
       "   SK_ID_CURR NAME_CONTRACT_TYPE CODE_GENDER FLAG_OWN_CAR FLAG_OWN_REALTY  \\\n",
       "0      149741         Cash loans           F            N               N   \n",
       "1      363290         Cash loans           M            N               Y   \n",
       "2      436006    Revolving loans           M            Y               Y   \n",
       "3      377703         Cash loans           M            Y               N   \n",
       "4      188624         Cash loans           M            Y               Y   \n",
       "\n",
       "   CNT_CHILDREN  AMT_INCOME_TOTAL  AMT_CREDIT  AMT_ANNUITY  AMT_GOODS_PRICE  \\\n",
       "0             0          117000.0    417024.0      20191.5         360000.0   \n",
       "1             0          450000.0    640080.0      31261.5         450000.0   \n",
       "2             0          450000.0    900000.0      45000.0         900000.0   \n",
       "3             1          360000.0   1125000.0      33025.5        1125000.0   \n",
       "4             0          675000.0    835380.0      42840.0         675000.0   \n",
       "\n",
       "   ... FLAG_DOCUMENT_18 FLAG_DOCUMENT_19 FLAG_DOCUMENT_20 FLAG_DOCUMENT_21  \\\n",
       "0  ...                0                0                0                0   \n",
       "1  ...                0                0                0                0   \n",
       "2  ...                0                0                0                0   \n",
       "3  ...                0                0                0                0   \n",
       "4  ...                0                0                0                0   \n",
       "\n",
       "  AMT_REQ_CREDIT_BUREAU_HOUR  AMT_REQ_CREDIT_BUREAU_DAY  \\\n",
       "0                        0.0                        0.0   \n",
       "1                        0.0                        0.0   \n",
       "2                        0.0                        0.0   \n",
       "3                        0.0                        0.0   \n",
       "4                        0.0                        0.0   \n",
       "\n",
       "   AMT_REQ_CREDIT_BUREAU_WEEK  AMT_REQ_CREDIT_BUREAU_MON  \\\n",
       "0                         0.0                        0.0   \n",
       "1                         0.0                        0.0   \n",
       "2                         0.0                        0.0   \n",
       "3                         0.0                        0.0   \n",
       "4                         0.0                        0.0   \n",
       "\n",
       "   AMT_REQ_CREDIT_BUREAU_QRT  AMT_REQ_CREDIT_BUREAU_YEAR  \n",
       "0                        0.0                         3.0  \n",
       "1                        0.0                         1.0  \n",
       "2                        2.0                         0.0  \n",
       "3                        0.0                         1.0  \n",
       "4                        0.0                         2.0  \n",
       "\n",
       "[5 rows x 121 columns]"
      ]
     },
     "execution_count": 162,
     "metadata": {},
     "output_type": "execute_result"
    }
   ],
   "source": [
    "# visualização do dataset de treino\n",
    "\n",
    "df_teste.head()"
   ]
  },
  {
   "cell_type": "code",
   "execution_count": 163,
   "id": "8d4cc19e",
   "metadata": {},
   "outputs": [
    {
     "data": {
      "text/plain": [
       "61160      25650.0\n",
       "12612      26100.0\n",
       "27199      26460.0\n",
       "11172      26550.0\n",
       "50154      27000.0\n",
       "           ...    \n",
       "43925    2250000.0\n",
       "11800    2930026.5\n",
       "24230    3150000.0\n",
       "13678    3600000.0\n",
       "12476    3825000.0\n",
       "Name: AMT_INCOME_TOTAL, Length: 61503, dtype: float64"
      ]
     },
     "execution_count": 163,
     "metadata": {},
     "output_type": "execute_result"
    }
   ],
   "source": [
    "# é possível verificar a presença de outliers, algumas rendas muito acima das demais\n",
    "\n",
    "df_teste[\"AMT_INCOME_TOTAL\"].sort_values()"
   ]
  },
  {
   "cell_type": "code",
   "execution_count": 164,
   "id": "af4fbb7d",
   "metadata": {},
   "outputs": [
    {
     "data": {
      "text/plain": [
       "0          (50000, 150000]\n",
       "1         (250000, 500000]\n",
       "2         (250000, 500000]\n",
       "3         (250000, 500000]\n",
       "4        (500000, 1000000]\n",
       "               ...        \n",
       "61498     (150000, 250000]\n",
       "61499      (50000, 150000]\n",
       "61500     (150000, 250000]\n",
       "61501     (150000, 250000]\n",
       "61502      (50000, 150000]\n",
       "Name: INCOME_RANGE, Length: 61503, dtype: category\n",
       "Categories (6, interval[int64, right]): [(10000, 50000] < (50000, 150000] < (150000, 250000] < (250000, 500000] < (500000, 1000000] < (1000000, 117000000]]"
      ]
     },
     "execution_count": 164,
     "metadata": {},
     "output_type": "execute_result"
    }
   ],
   "source": [
    "# divisão das rendas em \"faixas de rendas\" com os valores determinados nas análises de mínimo,\n",
    "# máximo e concentrações por quartis\n",
    "\n",
    "bins = [10000, 50000, 150000, 250000, 500000, 1000000, 117000000]\n",
    "df_teste[\"INCOME_RANGE\"] = pd.cut(df_teste[\"AMT_INCOME_TOTAL\"], bins = bins)\n",
    "\n",
    "df_teste[\"INCOME_RANGE\"]"
   ]
  },
  {
   "cell_type": "code",
   "execution_count": 171,
   "id": "51a98d43",
   "metadata": {},
   "outputs": [],
   "source": [
    "# carregando o modelo\n",
    "\n",
    "with open(\"grid_gb.pkl\", \"rb\") as f:\n",
    "    \n",
    "    model_grid_gb = pickle.load(f)"
   ]
  },
  {
   "cell_type": "code",
   "execution_count": 172,
   "id": "93eeea95",
   "metadata": {},
   "outputs": [],
   "source": [
    "# predição onde 0 = bons pagadores e 1 = maus pagadores\n",
    "\n",
    "predictions = model_grid_gb.predict(df_teste)\n",
    "target = pd.Series(predictions)"
   ]
  },
  {
   "cell_type": "code",
   "execution_count": 173,
   "id": "bf458e9d",
   "metadata": {},
   "outputs": [],
   "source": [
    "proba_1 = model_grid_gb.predict_proba(df_teste)[:, 1]\n",
    "proba_percent = (model_grid_gb.predict_proba(df_teste)[:, 1]*100)"
   ]
  },
  {
   "cell_type": "code",
   "execution_count": 174,
   "id": "c2bf6ef5",
   "metadata": {},
   "outputs": [
    {
     "data": {
      "text/html": [
       "<div>\n",
       "<style scoped>\n",
       "    .dataframe tbody tr th:only-of-type {\n",
       "        vertical-align: middle;\n",
       "    }\n",
       "\n",
       "    .dataframe tbody tr th {\n",
       "        vertical-align: top;\n",
       "    }\n",
       "\n",
       "    .dataframe thead th {\n",
       "        text-align: right;\n",
       "    }\n",
       "</style>\n",
       "<table border=\"1\" class=\"dataframe\">\n",
       "  <thead>\n",
       "    <tr style=\"text-align: right;\">\n",
       "      <th></th>\n",
       "      <th>SK_ID_CURR</th>\n",
       "      <th>PROBABILITY_VALUE_1</th>\n",
       "    </tr>\n",
       "  </thead>\n",
       "  <tbody>\n",
       "    <tr>\n",
       "      <th>0</th>\n",
       "      <td>149741</td>\n",
       "      <td>0.305031</td>\n",
       "    </tr>\n",
       "    <tr>\n",
       "      <th>1</th>\n",
       "      <td>363290</td>\n",
       "      <td>0.042836</td>\n",
       "    </tr>\n",
       "    <tr>\n",
       "      <th>2</th>\n",
       "      <td>436006</td>\n",
       "      <td>0.060978</td>\n",
       "    </tr>\n",
       "    <tr>\n",
       "      <th>3</th>\n",
       "      <td>377703</td>\n",
       "      <td>0.047718</td>\n",
       "    </tr>\n",
       "    <tr>\n",
       "      <th>4</th>\n",
       "      <td>188624</td>\n",
       "      <td>0.308828</td>\n",
       "    </tr>\n",
       "  </tbody>\n",
       "</table>\n",
       "</div>"
      ],
      "text/plain": [
       "   SK_ID_CURR  PROBABILITY_VALUE_1\n",
       "0      149741             0.305031\n",
       "1      363290             0.042836\n",
       "2      436006             0.060978\n",
       "3      377703             0.047718\n",
       "4      188624             0.308828"
      ]
     },
     "execution_count": 174,
     "metadata": {},
     "output_type": "execute_result"
    }
   ],
   "source": [
    "aux = {\"SK_ID_CURR\" : df_teste[\"SK_ID_CURR\"], \"PROBABILITY_VALUE_1\": proba_1}\n",
    "\n",
    "df_entrega = pd.DataFrame(aux)\n",
    "df_entrega.head()"
   ]
  },
  {
   "cell_type": "code",
   "execution_count": 175,
   "id": "a5445ff6",
   "metadata": {},
   "outputs": [],
   "source": [
    "# salvando em arquivo csv\n",
    "\n",
    "df_entrega.to_csv(\"projeto-pedro-bastos-santana.csv\")"
   ]
  }
 ],
 "metadata": {
  "kernelspec": {
   "display_name": "Python 3",
   "language": "python",
   "name": "python3"
  },
  "language_info": {
   "codemirror_mode": {
    "name": "ipython",
    "version": 3
   },
   "file_extension": ".py",
   "mimetype": "text/x-python",
   "name": "python",
   "nbconvert_exporter": "python",
   "pygments_lexer": "ipython3",
   "version": "3.9.5"
  }
 },
 "nbformat": 4,
 "nbformat_minor": 5
}
